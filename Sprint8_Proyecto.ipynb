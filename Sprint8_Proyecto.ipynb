{
 "cells": [
  {
   "cell_type": "markdown",
   "metadata": {},
   "source": [
    "Hola **Javier**!\n",
    "\n",
    "Soy **Patricio Requena** 👋. Es un placer ser el revisor de tu proyecto el día de hoy!\n",
    "\n",
    "Revisaré tu proyecto detenidamente con el objetivo de ayudarte a mejorar y perfeccionar tus habilidades. Durante mi revisión, identificaré áreas donde puedas hacer mejoras en tu código, señalando específicamente qué y cómo podrías ajustar para optimizar el rendimiento y la claridad de tu proyecto. Además, es importante para mí destacar los aspectos que has manejado excepcionalmente bien. Reconocer tus fortalezas te ayudará a entender qué técnicas y métodos están funcionando a tu favor y cómo puedes aplicarlos en futuras tareas. \n",
    "\n",
    "_**Recuerda que al final de este notebook encontrarás un comentario general de mi parte**_, empecemos!\n",
    "\n",
    "Encontrarás mis comentarios dentro de cajas verdes, amarillas o rojas, ⚠️ **por favor, no muevas, modifiques o borres mis comentarios** ⚠️:\n",
    "\n",
    "\n",
    "<div class=\"alert alert-block alert-success\">\n",
    "<b>Comentario del revisor</b> <a class=“tocSkip”></a>\n",
    "Si todo está perfecto.\n",
    "</div>\n",
    "\n",
    "<div class=\"alert alert-block alert-warning\">\n",
    "<b>Comentario del revisor</b> <a class=“tocSkip”></a>\n",
    "Si tu código está bien pero se puede mejorar o hay algún detalle que le hace falta.\n",
    "</div>\n",
    "\n",
    "<div class=\"alert alert-block alert-danger\">\n",
    "<b>Comentario del revisor</b> <a class=“tocSkip”></a>\n",
    "Si de pronto hace falta algo o existe algún problema con tu código o conclusiones.\n",
    "</div>\n",
    "\n",
    "Puedes responderme de esta forma:\n",
    "<div class=\"alert alert-block alert-info\">\n",
    "<b>Respuesta del estudiante</b> <a class=“tocSkip”></a>\n",
    "</div>"
   ]
  },
  {
   "cell_type": "markdown",
   "metadata": {},
   "source": [
    " <font size=\"5\"> **Descripción del proyecto:** </font>\n",
    "\n",
    "Estás trabajando como analista para Zuber, una nueva empresa de viajes compartidos que se está lanzando en Chicago. Tu tarea es encontrar patrones en la información disponible. Quieres comprender las preferencias de los pasajeros y el impacto de los factores externos en los viajes.\n",
    "\n",
    "Al trabajar con una base de datos, analizarás los datos de los competidores y probarás una hipótesis sobre el impacto del clima en la frecuencia de los viajes."
   ]
  },
  {
   "cell_type": "markdown",
   "metadata": {},
   "source": [
    "  **Table of contents**<a id='toc0_'></a>\n",
    "    - [Importación de librerias](#toc1_)\n",
    "    - [Carga de datos](#toc2_)\n",
    "    - [Exploración de datos](#toc3_)\n",
    "    - [Correciones simples en nuestros datos](#toc4_)\n",
    "    - [Analisis profundo de datos](#toc5_)\n",
    "    - [Pruebas de hipotesis](#toc6_)\n",
    "    - [Conclusiones finales](#toc7_)"
   ]
  },
  {
   "cell_type": "markdown",
   "metadata": {},
   "source": [
    "<div class=\"alert alert-block alert-success\">\n",
    "<b>Comentario del revisor (1ra Iteracion)</b> <a class=“tocSkip”></a>\n",
    "\n",
    "Te felicito por incluir esta sección introductoria a tu proyecto, esto da una mejor presentación y entendimiento del mismo\n",
    "</div>"
   ]
  },
  {
   "cell_type": "markdown",
   "metadata": {},
   "source": [
    "# <a id='toc1_'></a>[Importación de librerias](#toc1_)"
   ]
  },
  {
   "cell_type": "code",
   "execution_count": 1,
   "metadata": {},
   "outputs": [],
   "source": [
    "import pandas as pd\n",
    "import numpy as np\n",
    "import matplotlib.pyplot as plt\n",
    "import seaborn as sns\n",
    "from scipy import stats as st\n",
    "import re"
   ]
  },
  {
   "cell_type": "markdown",
   "metadata": {},
   "source": [
    "# <a id='toc2_'></a>[Carga de datos](#toc2_)"
   ]
  },
  {
   "cell_type": "code",
   "execution_count": 2,
   "metadata": {},
   "outputs": [],
   "source": [
    "#Vamos a cargar correctamente nuestros datasets\n",
    "df_company = pd.read_csv('/datasets/project_sql_result_01.csv')\n",
    "df_neighborhoods = pd.read_csv('/datasets/project_sql_result_04.csv')"
   ]
  },
  {
   "cell_type": "markdown",
   "metadata": {},
   "source": [
    "<div class=\"alert alert-block alert-success\">\n",
    "<b>Comentario del revisor (1ra Iteracion)</b> <a class=“tocSkip”></a>\n",
    "\n",
    "Muy bien! Carga de datos e importación de librerías correcto\n",
    "</div>"
   ]
  },
  {
   "cell_type": "markdown",
   "metadata": {},
   "source": [
    "# <a id='toc3_'></a>[Exploración de datos](#toc3_)"
   ]
  },
  {
   "cell_type": "code",
   "execution_count": 3,
   "metadata": {},
   "outputs": [
    {
     "name": "stdout",
     "output_type": "stream",
     "text": [
      "<class 'pandas.core.frame.DataFrame'>\n",
      "RangeIndex: 64 entries, 0 to 63\n",
      "Data columns (total 2 columns):\n",
      " #   Column        Non-Null Count  Dtype \n",
      "---  ------        --------------  ----- \n",
      " 0   company_name  64 non-null     object\n",
      " 1   trips_amount  64 non-null     int64 \n",
      "dtypes: int64(1), object(1)\n",
      "memory usage: 1.1+ KB\n"
     ]
    },
    {
     "data": {
      "text/html": [
       "<div>\n",
       "<style scoped>\n",
       "    .dataframe tbody tr th:only-of-type {\n",
       "        vertical-align: middle;\n",
       "    }\n",
       "\n",
       "    .dataframe tbody tr th {\n",
       "        vertical-align: top;\n",
       "    }\n",
       "\n",
       "    .dataframe thead th {\n",
       "        text-align: right;\n",
       "    }\n",
       "</style>\n",
       "<table border=\"1\" class=\"dataframe\">\n",
       "  <thead>\n",
       "    <tr style=\"text-align: right;\">\n",
       "      <th></th>\n",
       "      <th>company_name</th>\n",
       "      <th>trips_amount</th>\n",
       "    </tr>\n",
       "  </thead>\n",
       "  <tbody>\n",
       "    <tr>\n",
       "      <th>0</th>\n",
       "      <td>Flash Cab</td>\n",
       "      <td>19558</td>\n",
       "    </tr>\n",
       "    <tr>\n",
       "      <th>1</th>\n",
       "      <td>Taxi Affiliation Services</td>\n",
       "      <td>11422</td>\n",
       "    </tr>\n",
       "    <tr>\n",
       "      <th>2</th>\n",
       "      <td>Medallion Leasing</td>\n",
       "      <td>10367</td>\n",
       "    </tr>\n",
       "    <tr>\n",
       "      <th>3</th>\n",
       "      <td>Yellow Cab</td>\n",
       "      <td>9888</td>\n",
       "    </tr>\n",
       "    <tr>\n",
       "      <th>4</th>\n",
       "      <td>Taxi Affiliation Service Yellow</td>\n",
       "      <td>9299</td>\n",
       "    </tr>\n",
       "    <tr>\n",
       "      <th>...</th>\n",
       "      <td>...</td>\n",
       "      <td>...</td>\n",
       "    </tr>\n",
       "    <tr>\n",
       "      <th>59</th>\n",
       "      <td>4053 - 40193 Adwar H. Nikola</td>\n",
       "      <td>7</td>\n",
       "    </tr>\n",
       "    <tr>\n",
       "      <th>60</th>\n",
       "      <td>2733 - 74600 Benny Jona</td>\n",
       "      <td>7</td>\n",
       "    </tr>\n",
       "    <tr>\n",
       "      <th>61</th>\n",
       "      <td>5874 - 73628 Sergey Cab Corp.</td>\n",
       "      <td>5</td>\n",
       "    </tr>\n",
       "    <tr>\n",
       "      <th>62</th>\n",
       "      <td>2241 - 44667 - Felman Corp</td>\n",
       "      <td>3</td>\n",
       "    </tr>\n",
       "    <tr>\n",
       "      <th>63</th>\n",
       "      <td>3556 - 36214 RC Andrews Cab</td>\n",
       "      <td>2</td>\n",
       "    </tr>\n",
       "  </tbody>\n",
       "</table>\n",
       "<p>64 rows × 2 columns</p>\n",
       "</div>"
      ],
      "text/plain": [
       "                       company_name  trips_amount\n",
       "0                         Flash Cab         19558\n",
       "1         Taxi Affiliation Services         11422\n",
       "2                 Medallion Leasing         10367\n",
       "3                        Yellow Cab          9888\n",
       "4   Taxi Affiliation Service Yellow          9299\n",
       "..                              ...           ...\n",
       "59     4053 - 40193 Adwar H. Nikola             7\n",
       "60          2733 - 74600 Benny Jona             7\n",
       "61    5874 - 73628 Sergey Cab Corp.             5\n",
       "62       2241 - 44667 - Felman Corp             3\n",
       "63      3556 - 36214 RC Andrews Cab             2\n",
       "\n",
       "[64 rows x 2 columns]"
      ]
     },
     "execution_count": 3,
     "metadata": {},
     "output_type": "execute_result"
    }
   ],
   "source": [
    "#Primero que nada, vamos a ver como se comportan los datos y analizar si presentan algun tipo de error\n",
    "df_company.info()\n",
    "df_company"
   ]
  },
  {
   "cell_type": "markdown",
   "metadata": {},
   "source": [
    "Contamos con dos columnas en nuestro df_company:\n",
    " - company_name: Que es el nombre de la empresa de taxis\n",
    " - trips_amount: Que es el numero de viajes de cada compañia de taxis del 15 y 16 de noviembre del 2017.\n",
    " \n",
    "  Podemos apreciar que la función info nos arroja información relevante de nuestro DF que no se puede apreciar a simple vista. Nuestro DF no parece contar con valores ausentes, vamos bien por ese lado ademas de que los tipos de datos o dtypes son coherentes con la información que estan manejando."
   ]
  },
  {
   "cell_type": "code",
   "execution_count": 4,
   "metadata": {},
   "outputs": [
    {
     "name": "stdout",
     "output_type": "stream",
     "text": [
      "<class 'pandas.core.frame.DataFrame'>\n",
      "RangeIndex: 94 entries, 0 to 93\n",
      "Data columns (total 2 columns):\n",
      " #   Column                 Non-Null Count  Dtype  \n",
      "---  ------                 --------------  -----  \n",
      " 0   dropoff_location_name  94 non-null     object \n",
      " 1   average_trips          94 non-null     float64\n",
      "dtypes: float64(1), object(1)\n",
      "memory usage: 1.6+ KB\n"
     ]
    },
    {
     "data": {
      "text/html": [
       "<div>\n",
       "<style scoped>\n",
       "    .dataframe tbody tr th:only-of-type {\n",
       "        vertical-align: middle;\n",
       "    }\n",
       "\n",
       "    .dataframe tbody tr th {\n",
       "        vertical-align: top;\n",
       "    }\n",
       "\n",
       "    .dataframe thead th {\n",
       "        text-align: right;\n",
       "    }\n",
       "</style>\n",
       "<table border=\"1\" class=\"dataframe\">\n",
       "  <thead>\n",
       "    <tr style=\"text-align: right;\">\n",
       "      <th></th>\n",
       "      <th>dropoff_location_name</th>\n",
       "      <th>average_trips</th>\n",
       "    </tr>\n",
       "  </thead>\n",
       "  <tbody>\n",
       "    <tr>\n",
       "      <th>0</th>\n",
       "      <td>Loop</td>\n",
       "      <td>10727.466667</td>\n",
       "    </tr>\n",
       "    <tr>\n",
       "      <th>1</th>\n",
       "      <td>River North</td>\n",
       "      <td>9523.666667</td>\n",
       "    </tr>\n",
       "    <tr>\n",
       "      <th>2</th>\n",
       "      <td>Streeterville</td>\n",
       "      <td>6664.666667</td>\n",
       "    </tr>\n",
       "    <tr>\n",
       "      <th>3</th>\n",
       "      <td>West Loop</td>\n",
       "      <td>5163.666667</td>\n",
       "    </tr>\n",
       "    <tr>\n",
       "      <th>4</th>\n",
       "      <td>O'Hare</td>\n",
       "      <td>2546.900000</td>\n",
       "    </tr>\n",
       "    <tr>\n",
       "      <th>...</th>\n",
       "      <td>...</td>\n",
       "      <td>...</td>\n",
       "    </tr>\n",
       "    <tr>\n",
       "      <th>89</th>\n",
       "      <td>Mount Greenwood</td>\n",
       "      <td>3.137931</td>\n",
       "    </tr>\n",
       "    <tr>\n",
       "      <th>90</th>\n",
       "      <td>Hegewisch</td>\n",
       "      <td>3.117647</td>\n",
       "    </tr>\n",
       "    <tr>\n",
       "      <th>91</th>\n",
       "      <td>Burnside</td>\n",
       "      <td>2.333333</td>\n",
       "    </tr>\n",
       "    <tr>\n",
       "      <th>92</th>\n",
       "      <td>East Side</td>\n",
       "      <td>1.961538</td>\n",
       "    </tr>\n",
       "    <tr>\n",
       "      <th>93</th>\n",
       "      <td>Riverdale</td>\n",
       "      <td>1.800000</td>\n",
       "    </tr>\n",
       "  </tbody>\n",
       "</table>\n",
       "<p>94 rows × 2 columns</p>\n",
       "</div>"
      ],
      "text/plain": [
       "   dropoff_location_name  average_trips\n",
       "0                   Loop   10727.466667\n",
       "1            River North    9523.666667\n",
       "2          Streeterville    6664.666667\n",
       "3              West Loop    5163.666667\n",
       "4                 O'Hare    2546.900000\n",
       "..                   ...            ...\n",
       "89       Mount Greenwood       3.137931\n",
       "90             Hegewisch       3.117647\n",
       "91              Burnside       2.333333\n",
       "92             East Side       1.961538\n",
       "93             Riverdale       1.800000\n",
       "\n",
       "[94 rows x 2 columns]"
      ]
     },
     "execution_count": 4,
     "metadata": {},
     "output_type": "execute_result"
    }
   ],
   "source": [
    "#Ahora vamos a analizar los datos de nuestro otro DF con el mismo procedimiento\n",
    "df_neighborhoods.info()\n",
    "df_neighborhoods"
   ]
  },
  {
   "cell_type": "markdown",
   "metadata": {},
   "source": [
    "Como podemos observar, contamos con un dataframe similar al anterior en cuestion que no presenta datos ausentes y sus tipos de datos o dtypes son correspondientes a la información que maneja.\n",
    "\n",
    "En este caso contamos con las columnas:\n",
    "* dropoff_location_name: Que vienen siendo los diferentes varios de Chicago donde finalizaron los viajes.\n",
    "* average_trips: Que viene siendo el promedio de viajes que terminaron en cada barrio en noviembre de 2017."
   ]
  },
  {
   "cell_type": "markdown",
   "metadata": {},
   "source": [
    "# <a id='toc4_'></a>[Correciones simples en nuestros datos](#toc4_)"
   ]
  },
  {
   "cell_type": "code",
   "execution_count": 5,
   "metadata": {},
   "outputs": [
    {
     "data": {
      "text/plain": [
       "0"
      ]
     },
     "execution_count": 5,
     "metadata": {},
     "output_type": "execute_result"
    }
   ],
   "source": [
    "#Vamos analizar si existen datos duplicados en nuestro primer DF\n",
    "df_company.duplicated().sum()"
   ]
  },
  {
   "cell_type": "code",
   "execution_count": 6,
   "metadata": {},
   "outputs": [
    {
     "data": {
      "text/plain": [
       "0"
      ]
     },
     "execution_count": 6,
     "metadata": {},
     "output_type": "execute_result"
    }
   ],
   "source": [
    "#Ahora vamos a analizar si existen datos duplicados de nuestro segundo DF\n",
    "df_neighborhoods.duplicated().sum()"
   ]
  },
  {
   "cell_type": "markdown",
   "metadata": {},
   "source": [
    "Como podemos observar, ninguno de los dos DF cuenta con datos duplicados, lo cual es una gran noticia ya que nos facilitara los procesos de analisis que se realizaran más adelante."
   ]
  },
  {
   "cell_type": "code",
   "execution_count": 7,
   "metadata": {},
   "outputs": [
    {
     "data": {
      "text/plain": [
       "array(['Flash Cab', 'Taxi Affiliation Services', 'Medallion Leasing',\n",
       "       'Yellow Cab', 'Taxi Affiliation Service Yellow',\n",
       "       'Chicago Carriage Cab Corp', 'City Service', 'Sun Taxi',\n",
       "       'Star North Management LLC', 'Blue Ribbon Taxi Association Inc.',\n",
       "       'Choice Taxi Association', 'Globe Taxi',\n",
       "       'Dispatch Taxi Affiliation', 'Nova Taxi Affiliation Llc',\n",
       "       'Patriot Taxi Dba Peace Taxi Association',\n",
       "       'Checker Taxi Affiliation', 'Blue Diamond',\n",
       "       'Chicago Medallion Management', '24 Seven Taxi',\n",
       "       'Chicago Medallion Leasing INC', 'Checker Taxi', 'American United',\n",
       "       'Chicago Independents', 'KOAM Taxi Association', 'Chicago Taxicab',\n",
       "       'Top Cab Affiliation', 'Gold Coast Taxi',\n",
       "       'Service Taxi Association', '5 Star Taxi', '303 Taxi',\n",
       "       'Setare Inc', 'American United Taxi Affiliation', 'Leonard Cab Co',\n",
       "       'Metro Jet Taxi A', 'Norshore Cab', '6742 - 83735 Tasha Ride Inc',\n",
       "       '3591 - 63480 Chuks Cab', '1469 - 64126 Omar Jada',\n",
       "       '6743 - 78771 Luhak Corp', '0118 - 42111 Godfrey S. Awir',\n",
       "       '6574 - Babylon Express Inc.', 'Chicago Star Taxicab',\n",
       "       '1085 - 72312 N and W Cab Co', '2809 - 95474 C & D Cab Co Inc.',\n",
       "       '2092 - 61288 Sbeih Company', '3011 - 66308 JBL Cab Inc.',\n",
       "       '3620 - 52292 David K. Cab Corp.', '4615 - 83503 Tyrone Henderson',\n",
       "       '3623 - 72222 Arrington Enterprises', '5074 - 54002 Ahzmi Inc',\n",
       "       '2823 - 73307 Lee Express Inc', '4623 - 27290 Jay Kim',\n",
       "       '3721 - Santamaria Express', '5006 - 39261 Salifu Bawa',\n",
       "       '2192 - 73487 Zeymane Corp', '6057 - 24657 Richard Addo',\n",
       "       '5997 - 65283 AW Services Inc.', 'Metro Group',\n",
       "       '5062 - 34841 Sam Mestas', '4053 - 40193 Adwar H. Nikola',\n",
       "       '2733 - 74600 Benny Jona', '5874 - 73628 Sergey Cab Corp.',\n",
       "       '2241 - 44667 - Felman Corp', '3556 - 36214 RC Andrews Cab'],\n",
       "      dtype=object)"
      ]
     },
     "execution_count": 7,
     "metadata": {},
     "output_type": "execute_result"
    }
   ],
   "source": [
    "#Ahora vamos a ver los valores unicos con los que cuenta nuestro primer DF\n",
    "df_company[\"company_name\"].unique()"
   ]
  },
  {
   "cell_type": "markdown",
   "metadata": {},
   "source": [
    "A simple vista podemos observar que algunos nombres de compañia cuenta con numeros y guiones antes de su nombre. Puede que no perjudiquen a la hora de nuestros analisis pero si puede ser un problema a la hora de la visualización de resultados por que puede llegar a confundir. \n",
    "\n",
    "Asi que a continuación nos enfocaremos a eliminar esos numeros, guiones, etc que solo nos estorban y nos quedaremos unicamente con el texto."
   ]
  },
  {
   "cell_type": "code",
   "execution_count": 8,
   "metadata": {},
   "outputs": [],
   "source": [
    "#Para eliminar esos numeros y guiones, utilizaremos regex mediante una función\n",
    "def numbers_replace(row):\n",
    "    new_string = re.sub(r'\\d* - \\d*[ -]*','',row['company_name'])\n",
    "    return new_string"
   ]
  },
  {
   "cell_type": "code",
   "execution_count": 9,
   "metadata": {},
   "outputs": [
    {
     "data": {
      "text/plain": [
       "0                           Flash Cab\n",
       "1           Taxi Affiliation Services\n",
       "2                   Medallion Leasing\n",
       "3                          Yellow Cab\n",
       "4     Taxi Affiliation Service Yellow\n",
       "                   ...               \n",
       "59                    Adwar H. Nikola\n",
       "60                         Benny Jona\n",
       "61                   Sergey Cab Corp.\n",
       "62                        Felman Corp\n",
       "63                     RC Andrews Cab\n",
       "Length: 64, dtype: object"
      ]
     },
     "execution_count": 9,
     "metadata": {},
     "output_type": "execute_result"
    }
   ],
   "source": [
    "#Una vez hecha nuestra pequeña función, vamos a aplicarla en nuestro DF\n",
    "df_company.apply(numbers_replace,axis = 1)"
   ]
  },
  {
   "cell_type": "code",
   "execution_count": 10,
   "metadata": {},
   "outputs": [],
   "source": [
    "#Ya tenemos la función hecha y comprobamos que funciona, ya podemos reemplazar la columna por la que tiene solo texto\n",
    "df_company['company_name'] = df_company.apply(numbers_replace,axis = 1)"
   ]
  },
  {
   "cell_type": "code",
   "execution_count": 11,
   "metadata": {},
   "outputs": [
    {
     "data": {
      "text/plain": [
       "array(['Flash Cab', 'Taxi Affiliation Services', 'Medallion Leasing',\n",
       "       'Yellow Cab', 'Taxi Affiliation Service Yellow',\n",
       "       'Chicago Carriage Cab Corp', 'City Service', 'Sun Taxi',\n",
       "       'Star North Management LLC', 'Blue Ribbon Taxi Association Inc.',\n",
       "       'Choice Taxi Association', 'Globe Taxi',\n",
       "       'Dispatch Taxi Affiliation', 'Nova Taxi Affiliation Llc',\n",
       "       'Patriot Taxi Dba Peace Taxi Association',\n",
       "       'Checker Taxi Affiliation', 'Blue Diamond',\n",
       "       'Chicago Medallion Management', '24 Seven Taxi',\n",
       "       'Chicago Medallion Leasing INC', 'Checker Taxi', 'American United',\n",
       "       'Chicago Independents', 'KOAM Taxi Association', 'Chicago Taxicab',\n",
       "       'Top Cab Affiliation', 'Gold Coast Taxi',\n",
       "       'Service Taxi Association', '5 Star Taxi', '303 Taxi',\n",
       "       'Setare Inc', 'American United Taxi Affiliation', 'Leonard Cab Co',\n",
       "       'Metro Jet Taxi A', 'Norshore Cab', 'Tasha Ride Inc', 'Chuks Cab',\n",
       "       'Omar Jada', 'Luhak Corp', 'Godfrey S. Awir',\n",
       "       'Babylon Express Inc.', 'Chicago Star Taxicab', 'N and W Cab Co',\n",
       "       'C & D Cab Co Inc.', 'Sbeih Company', 'JBL Cab Inc.',\n",
       "       'David K. Cab Corp.', 'Tyrone Henderson', 'Arrington Enterprises',\n",
       "       'Ahzmi Inc', 'Lee Express Inc', 'Jay Kim', 'Santamaria Express',\n",
       "       'Salifu Bawa', 'Zeymane Corp', 'Richard Addo', 'AW Services Inc.',\n",
       "       'Metro Group', 'Sam Mestas', 'Adwar H. Nikola', 'Benny Jona',\n",
       "       'Sergey Cab Corp.', 'Felman Corp', 'RC Andrews Cab'], dtype=object)"
      ]
     },
     "execution_count": 11,
     "metadata": {},
     "output_type": "execute_result"
    }
   ],
   "source": [
    "#Comprobamos que se aplicaron adecuadamente los cambios\n",
    "df_company['company_name'].unique()"
   ]
  },
  {
   "cell_type": "markdown",
   "metadata": {},
   "source": [
    "Efectivamente, ya la información se ve mucho mejor y más accesible a la vista."
   ]
  },
  {
   "cell_type": "code",
   "execution_count": 12,
   "metadata": {},
   "outputs": [
    {
     "data": {
      "text/plain": [
       "array(['Loop', 'River North', 'Streeterville', 'West Loop', \"O'Hare\",\n",
       "       'Lake View', 'Grant Park', 'Museum Campus', 'Gold Coast',\n",
       "       'Sheffield & DePaul', 'Lincoln Park', 'East Village',\n",
       "       'Little Italy, UIC', 'Uptown', 'Near South Side', 'Garfield Ridge',\n",
       "       'Logan Square', 'Edgewater', 'West Town', 'Old Town',\n",
       "       'Rush & Division', 'North Center', 'Lincoln Square', 'Rogers Park',\n",
       "       'West Ridge', 'Irving Park', 'Hyde Park', 'Avondale',\n",
       "       'Wicker Park', 'Albany Park', 'United Center', 'Lower West Side',\n",
       "       'Douglas', 'Portage Park', 'Humboldt Park', 'Norwood Park',\n",
       "       'Kenwood', 'Bridgeport', 'Armour Square', 'Jefferson Park',\n",
       "       'Bucktown', 'North Park', 'Garfield Park', 'Mckinley Park',\n",
       "       'Belmont Cragin', 'Boystown', 'Chinatown', 'Grand Boulevard',\n",
       "       'Austin', 'Sauganash,Forest Glen', 'South Shore', 'Woodlawn',\n",
       "       'Little Village', 'Jackson Park', 'North Lawndale', 'Dunning',\n",
       "       'Ukrainian Village', 'Hermosa', 'Englewood', 'Chatham', 'New City',\n",
       "       'Grand Crossing', 'Brighton Park', 'Andersonville', 'Oakland',\n",
       "       'Ashburn', 'Washington Park', 'Auburn Gresham', 'Clearing',\n",
       "       'Roseland', 'Wrigleyville', 'Edison Park', 'South Chicago',\n",
       "       'Chicago Lawn', 'Beverly', 'Calumet Heights', 'Washington Heights',\n",
       "       'Archer Heights', 'Gage Park', 'Fuller Park', 'West Lawn',\n",
       "       'Morgan Park', 'South Deering', 'Avalon Park', 'West Pullman',\n",
       "       'Montclare', 'West Elsdon', 'Pullman', 'Undef', 'Mount Greenwood',\n",
       "       'Hegewisch', 'Burnside', 'East Side', 'Riverdale'], dtype=object)"
      ]
     },
     "execution_count": 12,
     "metadata": {},
     "output_type": "execute_result"
    }
   ],
   "source": [
    "#Verifiquemos los datos unicos de nuestro segundo DF\n",
    "df_neighborhoods['dropoff_location_name'].unique()"
   ]
  },
  {
   "cell_type": "markdown",
   "metadata": {},
   "source": [
    "Este DF cuenta con información accesible y ordenada de manera correcta."
   ]
  },
  {
   "cell_type": "markdown",
   "metadata": {},
   "source": [
    "<div class=\"alert alert-block alert-success\">\n",
    "<b>Comentario del revisor (1ra Iteracion)</b> <a class=“tocSkip”></a>\n",
    "\n",
    "Muy buen trabajo! Siempre se debe analizar los datos con los que se trabajará y realizar el procesamiento adecuado para tener métricas más acertadas\n",
    "</div>"
   ]
  },
  {
   "cell_type": "markdown",
   "metadata": {},
   "source": [
    "# <a id='toc5_'></a>[Analisis profundo de datos](#toc5_)"
   ]
  },
  {
   "cell_type": "markdown",
   "metadata": {},
   "source": [
    "Nuestro objetivo ahora, es identificar cuales son nuestros TOP 10 de compañias y barrios de los diferentes DF."
   ]
  },
  {
   "cell_type": "code",
   "execution_count": 13,
   "metadata": {},
   "outputs": [
    {
     "data": {
      "text/html": [
       "<div>\n",
       "<style scoped>\n",
       "    .dataframe tbody tr th:only-of-type {\n",
       "        vertical-align: middle;\n",
       "    }\n",
       "\n",
       "    .dataframe tbody tr th {\n",
       "        vertical-align: top;\n",
       "    }\n",
       "\n",
       "    .dataframe thead th {\n",
       "        text-align: right;\n",
       "    }\n",
       "</style>\n",
       "<table border=\"1\" class=\"dataframe\">\n",
       "  <thead>\n",
       "    <tr style=\"text-align: right;\">\n",
       "      <th></th>\n",
       "      <th>index</th>\n",
       "      <th>trips_amount</th>\n",
       "    </tr>\n",
       "  </thead>\n",
       "  <tbody>\n",
       "    <tr>\n",
       "      <th>0</th>\n",
       "      <td>count</td>\n",
       "      <td>64.000000</td>\n",
       "    </tr>\n",
       "    <tr>\n",
       "      <th>1</th>\n",
       "      <td>mean</td>\n",
       "      <td>2145.484375</td>\n",
       "    </tr>\n",
       "    <tr>\n",
       "      <th>2</th>\n",
       "      <td>std</td>\n",
       "      <td>3812.310186</td>\n",
       "    </tr>\n",
       "    <tr>\n",
       "      <th>3</th>\n",
       "      <td>min</td>\n",
       "      <td>2.000000</td>\n",
       "    </tr>\n",
       "    <tr>\n",
       "      <th>4</th>\n",
       "      <td>25%</td>\n",
       "      <td>20.750000</td>\n",
       "    </tr>\n",
       "    <tr>\n",
       "      <th>5</th>\n",
       "      <td>50%</td>\n",
       "      <td>178.500000</td>\n",
       "    </tr>\n",
       "    <tr>\n",
       "      <th>6</th>\n",
       "      <td>75%</td>\n",
       "      <td>2106.500000</td>\n",
       "    </tr>\n",
       "    <tr>\n",
       "      <th>7</th>\n",
       "      <td>max</td>\n",
       "      <td>19558.000000</td>\n",
       "    </tr>\n",
       "  </tbody>\n",
       "</table>\n",
       "</div>"
      ],
      "text/plain": [
       "   index  trips_amount\n",
       "0  count     64.000000\n",
       "1   mean   2145.484375\n",
       "2    std   3812.310186\n",
       "3    min      2.000000\n",
       "4    25%     20.750000\n",
       "5    50%    178.500000\n",
       "6    75%   2106.500000\n",
       "7    max  19558.000000"
      ]
     },
     "execution_count": 13,
     "metadata": {},
     "output_type": "execute_result"
    }
   ],
   "source": [
    "#Vamos a ver como se distribuyen nuestros datos en nuestro primer DF\n",
    "df_company['trips_amount'].describe().reset_index()"
   ]
  },
  {
   "cell_type": "markdown",
   "metadata": {},
   "source": [
    "Podemos observar que tanto el promedio, cuartiles, desviación estandar y el maximo cuentan con una clara incidencia sobre los datos por diferentes empresas. Esto da como resultado que los valores sean muy altos y poco comunes."
   ]
  },
  {
   "cell_type": "code",
   "execution_count": 14,
   "metadata": {},
   "outputs": [
    {
     "data": {
      "image/png": "[encoded data removed]",
      "text/plain": [
       "<Figure size 800x800 with 1 Axes>"
      ]
     },
     "metadata": {},
     "output_type": "display_data"
    }
   ],
   "source": [
    "#Ahora vamos a crear un boxplot que nos muestre la distribución de los valores de una manera más completa\n",
    "df_company.boxplot('trips_amount',figsize=(8,8))\n",
    "plt.show()"
   ]
  },
  {
   "cell_type": "markdown",
   "metadata": {},
   "source": [
    "Como podemos observar en la grafica, es sorprendente como una empresa esta por muy encima de las demas. Podemos ver que la diferencia de viajes es de más de 5000. Mientras que las otras empresas se encuentran similares en base a la media."
   ]
  },
  {
   "cell_type": "code",
   "execution_count": 15,
   "metadata": {},
   "outputs": [
    {
     "data": {
      "text/html": [
       "<div>\n",
       "<style scoped>\n",
       "    .dataframe tbody tr th:only-of-type {\n",
       "        vertical-align: middle;\n",
       "    }\n",
       "\n",
       "    .dataframe tbody tr th {\n",
       "        vertical-align: top;\n",
       "    }\n",
       "\n",
       "    .dataframe thead th {\n",
       "        text-align: right;\n",
       "    }\n",
       "</style>\n",
       "<table border=\"1\" class=\"dataframe\">\n",
       "  <thead>\n",
       "    <tr style=\"text-align: right;\">\n",
       "      <th></th>\n",
       "      <th>company_name</th>\n",
       "      <th>trips_amount</th>\n",
       "    </tr>\n",
       "  </thead>\n",
       "  <tbody>\n",
       "    <tr>\n",
       "      <th>0</th>\n",
       "      <td>Flash Cab</td>\n",
       "      <td>19558</td>\n",
       "    </tr>\n",
       "    <tr>\n",
       "      <th>1</th>\n",
       "      <td>Taxi Affiliation Services</td>\n",
       "      <td>11422</td>\n",
       "    </tr>\n",
       "    <tr>\n",
       "      <th>2</th>\n",
       "      <td>Medallion Leasing</td>\n",
       "      <td>10367</td>\n",
       "    </tr>\n",
       "    <tr>\n",
       "      <th>3</th>\n",
       "      <td>Yellow Cab</td>\n",
       "      <td>9888</td>\n",
       "    </tr>\n",
       "    <tr>\n",
       "      <th>4</th>\n",
       "      <td>Taxi Affiliation Service Yellow</td>\n",
       "      <td>9299</td>\n",
       "    </tr>\n",
       "    <tr>\n",
       "      <th>5</th>\n",
       "      <td>Chicago Carriage Cab Corp</td>\n",
       "      <td>9181</td>\n",
       "    </tr>\n",
       "    <tr>\n",
       "      <th>6</th>\n",
       "      <td>City Service</td>\n",
       "      <td>8448</td>\n",
       "    </tr>\n",
       "    <tr>\n",
       "      <th>7</th>\n",
       "      <td>Sun Taxi</td>\n",
       "      <td>7701</td>\n",
       "    </tr>\n",
       "    <tr>\n",
       "      <th>8</th>\n",
       "      <td>Star North Management LLC</td>\n",
       "      <td>7455</td>\n",
       "    </tr>\n",
       "    <tr>\n",
       "      <th>9</th>\n",
       "      <td>Blue Ribbon Taxi Association Inc.</td>\n",
       "      <td>5953</td>\n",
       "    </tr>\n",
       "  </tbody>\n",
       "</table>\n",
       "</div>"
      ],
      "text/plain": [
       "                        company_name  trips_amount\n",
       "0                          Flash Cab         19558\n",
       "1          Taxi Affiliation Services         11422\n",
       "2                  Medallion Leasing         10367\n",
       "3                         Yellow Cab          9888\n",
       "4    Taxi Affiliation Service Yellow          9299\n",
       "5          Chicago Carriage Cab Corp          9181\n",
       "6                       City Service          8448\n",
       "7                           Sun Taxi          7701\n",
       "8          Star North Management LLC          7455\n",
       "9  Blue Ribbon Taxi Association Inc.          5953"
      ]
     },
     "execution_count": 15,
     "metadata": {},
     "output_type": "execute_result"
    }
   ],
   "source": [
    "#Ahora, gracias a la tabla de nuestro DF ordenada podemos sacar el TOP 10 de compañias\n",
    "df_company.head(10)"
   ]
  },
  {
   "cell_type": "code",
   "execution_count": 16,
   "metadata": {},
   "outputs": [
    {
     "data": {
      "image/png": "[encoded data removed]",
      "text/plain": [
       "<Figure size 1600x700 with 1 Axes>"
      ]
     },
     "metadata": {},
     "output_type": "display_data"
    }
   ],
   "source": [
    "#Ahora, con esta información vamos a crear una grafica para que se aprecie de mejor manera\n",
    "data = df_company.head(10)\n",
    "\n",
    "sns.set(rc={'figure.figsize':(16,7)})\n",
    "\n",
    "sns.barplot(data= data, x='trips_amount',y='company_name',orient='h').set(title='Las 10 mejores compañias en numero de viajes')\n",
    "sns.set_style(\"whitegrid\")\n",
    "plt.show()"
   ]
  },
  {
   "cell_type": "markdown",
   "metadata": {},
   "source": [
    "Aqui se puede apreciar más claro la notable ventaja o diferencia que tiene la compañia top 1 a comparación de las demas. La compañia \"Flash Cab\" es la que destaca ante todas las demas."
   ]
  },
  {
   "cell_type": "markdown",
   "metadata": {},
   "source": [
    "<div class=\"alert alert-block alert-success\">\n",
    "<b>Comentario del revisor (1ra Iteracion)</b> <a class=“tocSkip”></a>\n",
    "\n",
    "Correcto, analizaste de manera adecuada lo referente a companías\n",
    "</div>"
   ]
  },
  {
   "cell_type": "markdown",
   "metadata": {},
   "source": [
    "**A continuación vamos a hacer el mismo procedimiento pero para el segundo DF**"
   ]
  },
  {
   "cell_type": "code",
   "execution_count": 17,
   "metadata": {},
   "outputs": [
    {
     "data": {
      "text/html": [
       "<div>\n",
       "<style scoped>\n",
       "    .dataframe tbody tr th:only-of-type {\n",
       "        vertical-align: middle;\n",
       "    }\n",
       "\n",
       "    .dataframe tbody tr th {\n",
       "        vertical-align: top;\n",
       "    }\n",
       "\n",
       "    .dataframe thead th {\n",
       "        text-align: right;\n",
       "    }\n",
       "</style>\n",
       "<table border=\"1\" class=\"dataframe\">\n",
       "  <thead>\n",
       "    <tr style=\"text-align: right;\">\n",
       "      <th></th>\n",
       "      <th>index</th>\n",
       "      <th>average_trips</th>\n",
       "    </tr>\n",
       "  </thead>\n",
       "  <tbody>\n",
       "    <tr>\n",
       "      <th>0</th>\n",
       "      <td>count</td>\n",
       "      <td>94.000000</td>\n",
       "    </tr>\n",
       "    <tr>\n",
       "      <th>1</th>\n",
       "      <td>mean</td>\n",
       "      <td>599.953728</td>\n",
       "    </tr>\n",
       "    <tr>\n",
       "      <th>2</th>\n",
       "      <td>std</td>\n",
       "      <td>1714.591098</td>\n",
       "    </tr>\n",
       "    <tr>\n",
       "      <th>3</th>\n",
       "      <td>min</td>\n",
       "      <td>1.800000</td>\n",
       "    </tr>\n",
       "    <tr>\n",
       "      <th>4</th>\n",
       "      <td>25%</td>\n",
       "      <td>14.266667</td>\n",
       "    </tr>\n",
       "    <tr>\n",
       "      <th>5</th>\n",
       "      <td>50%</td>\n",
       "      <td>52.016667</td>\n",
       "    </tr>\n",
       "    <tr>\n",
       "      <th>6</th>\n",
       "      <td>75%</td>\n",
       "      <td>298.858333</td>\n",
       "    </tr>\n",
       "    <tr>\n",
       "      <th>7</th>\n",
       "      <td>max</td>\n",
       "      <td>10727.466667</td>\n",
       "    </tr>\n",
       "  </tbody>\n",
       "</table>\n",
       "</div>"
      ],
      "text/plain": [
       "   index  average_trips\n",
       "0  count      94.000000\n",
       "1   mean     599.953728\n",
       "2    std    1714.591098\n",
       "3    min       1.800000\n",
       "4    25%      14.266667\n",
       "5    50%      52.016667\n",
       "6    75%     298.858333\n",
       "7    max   10727.466667"
      ]
     },
     "execution_count": 17,
     "metadata": {},
     "output_type": "execute_result"
    }
   ],
   "source": [
    "#Vamos a ver como se distribuyen nuestros datos en nuestro segundo DF\n",
    "df_neighborhoods['average_trips'].describe().reset_index()"
   ]
  },
  {
   "cell_type": "markdown",
   "metadata": {},
   "source": [
    "Como podemos observar se nota que ciertos barrios son más populares que otros, eso se puede determinar ya que la Media es mucho mayor a la Mediana. Ademas de que la Varianza Estandar tambien este encima del promedio."
   ]
  },
  {
   "cell_type": "code",
   "execution_count": 18,
   "metadata": {},
   "outputs": [
    {
     "data": {
      "image/png": "[encoded data removed]",
      "text/plain": [
       "<Figure size 800x800 with 1 Axes>"
      ]
     },
     "metadata": {},
     "output_type": "display_data"
    }
   ],
   "source": [
    "#Ahora vamos a crear un boxplot que nos muestre la distribución de los valores de una manera más completa\n",
    "df_neighborhoods['average_trips'].plot.box(figsize=(8,8))\n",
    "plt.show()"
   ]
  },
  {
   "cell_type": "markdown",
   "metadata": {},
   "source": [
    "Pasa similar al primer DF, hay barrios que destacan mucho más que los demas por mucho."
   ]
  },
  {
   "cell_type": "code",
   "execution_count": 19,
   "metadata": {},
   "outputs": [
    {
     "data": {
      "text/html": [
       "<div>\n",
       "<style scoped>\n",
       "    .dataframe tbody tr th:only-of-type {\n",
       "        vertical-align: middle;\n",
       "    }\n",
       "\n",
       "    .dataframe tbody tr th {\n",
       "        vertical-align: top;\n",
       "    }\n",
       "\n",
       "    .dataframe thead th {\n",
       "        text-align: right;\n",
       "    }\n",
       "</style>\n",
       "<table border=\"1\" class=\"dataframe\">\n",
       "  <thead>\n",
       "    <tr style=\"text-align: right;\">\n",
       "      <th></th>\n",
       "      <th>dropoff_location_name</th>\n",
       "      <th>average_trips</th>\n",
       "    </tr>\n",
       "  </thead>\n",
       "  <tbody>\n",
       "    <tr>\n",
       "      <th>0</th>\n",
       "      <td>Loop</td>\n",
       "      <td>10727.466667</td>\n",
       "    </tr>\n",
       "    <tr>\n",
       "      <th>1</th>\n",
       "      <td>River North</td>\n",
       "      <td>9523.666667</td>\n",
       "    </tr>\n",
       "    <tr>\n",
       "      <th>2</th>\n",
       "      <td>Streeterville</td>\n",
       "      <td>6664.666667</td>\n",
       "    </tr>\n",
       "    <tr>\n",
       "      <th>3</th>\n",
       "      <td>West Loop</td>\n",
       "      <td>5163.666667</td>\n",
       "    </tr>\n",
       "    <tr>\n",
       "      <th>4</th>\n",
       "      <td>O'Hare</td>\n",
       "      <td>2546.900000</td>\n",
       "    </tr>\n",
       "    <tr>\n",
       "      <th>5</th>\n",
       "      <td>Lake View</td>\n",
       "      <td>2420.966667</td>\n",
       "    </tr>\n",
       "    <tr>\n",
       "      <th>6</th>\n",
       "      <td>Grant Park</td>\n",
       "      <td>2068.533333</td>\n",
       "    </tr>\n",
       "    <tr>\n",
       "      <th>7</th>\n",
       "      <td>Museum Campus</td>\n",
       "      <td>1510.000000</td>\n",
       "    </tr>\n",
       "    <tr>\n",
       "      <th>8</th>\n",
       "      <td>Gold Coast</td>\n",
       "      <td>1364.233333</td>\n",
       "    </tr>\n",
       "    <tr>\n",
       "      <th>9</th>\n",
       "      <td>Sheffield &amp; DePaul</td>\n",
       "      <td>1259.766667</td>\n",
       "    </tr>\n",
       "  </tbody>\n",
       "</table>\n",
       "</div>"
      ],
      "text/plain": [
       "  dropoff_location_name  average_trips\n",
       "0                  Loop   10727.466667\n",
       "1           River North    9523.666667\n",
       "2         Streeterville    6664.666667\n",
       "3             West Loop    5163.666667\n",
       "4                O'Hare    2546.900000\n",
       "5             Lake View    2420.966667\n",
       "6            Grant Park    2068.533333\n",
       "7         Museum Campus    1510.000000\n",
       "8            Gold Coast    1364.233333\n",
       "9    Sheffield & DePaul    1259.766667"
      ]
     },
     "execution_count": 19,
     "metadata": {},
     "output_type": "execute_result"
    }
   ],
   "source": [
    "#Ahora, gracias a la tabla de nuestro DF ordenada podemos sacar el TOP 10 de los barrios de Chicago\n",
    "df_neighborhoods.head(10)"
   ]
  },
  {
   "cell_type": "code",
   "execution_count": 20,
   "metadata": {},
   "outputs": [
    {
     "data": {
      "image/png": "[encoded data removed]",
      "text/plain": [
       "<Figure size 1600x700 with 1 Axes>"
      ]
     },
     "metadata": {},
     "output_type": "display_data"
    }
   ],
   "source": [
    "#Ahora, con esta información vamos a crear una grafica para que se aprecie de mejor manera\n",
    "data = df_neighborhoods.head(10)\n",
    "\n",
    "sns.set(rc={'figure.figsize':(16,7)})\n",
    "\n",
    "sns.barplot(data= data, x='average_trips',y='dropoff_location_name',orient='h').set(title='Los 10 mejores barrios con más promedio en bajadas de Taxi')\n",
    "sns.set_style(\"whitegrid\")\n",
    "plt.show()"
   ]
  },
  {
   "cell_type": "markdown",
   "metadata": {},
   "source": [
    "Aqui podemos observar con mayor detalle que el barrio \"Loop\" con una pequeña diferencia se posiciona arriba de \"River North\". Esto se debe a que el barrio de \"Loop\" cuenta con grandes lugares turisticos que predominan en comparación de los demas lo que hace que en esas zonas sea muy solicitado utilizar Taxis."
   ]
  },
  {
   "cell_type": "markdown",
   "metadata": {},
   "source": [
    "<div class=\"alert alert-block alert-success\">\n",
    "<b>Comentario del revisor (1ra Iteracion)</b> <a class=“tocSkip”></a>\n",
    "\n",
    "Excelente, realizaste gráficas súper claras con análisis adecuados de las mismas\n",
    "</div>"
   ]
  },
  {
   "cell_type": "markdown",
   "metadata": {},
   "source": [
    "# <a id='toc6_'></a>[Pruebas de hipotesis](#toc6_)"
   ]
  },
  {
   "cell_type": "markdown",
   "metadata": {},
   "source": [
    "Prueba la hipótesis:\n",
    "\n",
    "\"La duración promedio de los viajes desde el Loop hasta el Aeropuerto Internacional O'Hare cambia los sábados lluviosos\".\n",
    "\n",
    "Decide por tu cuenta dónde establecer el nivel de significación (alfa).\n",
    "\n",
    "Explica:\n",
    "\n",
    "**cómo planteaste las hipótesis nula y alternativa**\n",
    "\n",
    "**qué criterio usaste para probar las hipótesis y por qué**"
   ]
  },
  {
   "cell_type": "code",
   "execution_count": 21,
   "metadata": {},
   "outputs": [],
   "source": [
    "#Para este proceso, debemos de cargar nuevos datos proporcionados y crear un DF\n",
    "df_weather = pd.read_csv('/datasets/project_sql_result_07.csv')"
   ]
  },
  {
   "cell_type": "markdown",
   "metadata": {},
   "source": [
    "<div class=\"alert alert-block alert-warning\">\n",
    "<b>Comentario del revisor (1ra Iteracion)</b> <a class=“tocSkip”></a>\n",
    "\n",
    "Te recomiendo siempre realizar la carga de tus datos al inicio del notebook, para tener un mejor órden y evitar confusiones\n",
    "</div>"
   ]
  },
  {
   "cell_type": "code",
   "execution_count": 22,
   "metadata": {},
   "outputs": [
    {
     "name": "stdout",
     "output_type": "stream",
     "text": [
      "<class 'pandas.core.frame.DataFrame'>\n",
      "RangeIndex: 1068 entries, 0 to 1067\n",
      "Data columns (total 3 columns):\n",
      " #   Column              Non-Null Count  Dtype  \n",
      "---  ------              --------------  -----  \n",
      " 0   start_ts            1068 non-null   object \n",
      " 1   weather_conditions  1068 non-null   object \n",
      " 2   duration_seconds    1068 non-null   float64\n",
      "dtypes: float64(1), object(2)\n",
      "memory usage: 25.2+ KB\n"
     ]
    },
    {
     "data": {
      "text/html": [
       "<div>\n",
       "<style scoped>\n",
       "    .dataframe tbody tr th:only-of-type {\n",
       "        vertical-align: middle;\n",
       "    }\n",
       "\n",
       "    .dataframe tbody tr th {\n",
       "        vertical-align: top;\n",
       "    }\n",
       "\n",
       "    .dataframe thead th {\n",
       "        text-align: right;\n",
       "    }\n",
       "</style>\n",
       "<table border=\"1\" class=\"dataframe\">\n",
       "  <thead>\n",
       "    <tr style=\"text-align: right;\">\n",
       "      <th></th>\n",
       "      <th>start_ts</th>\n",
       "      <th>weather_conditions</th>\n",
       "      <th>duration_seconds</th>\n",
       "    </tr>\n",
       "  </thead>\n",
       "  <tbody>\n",
       "    <tr>\n",
       "      <th>0</th>\n",
       "      <td>2017-11-25 16:00:00</td>\n",
       "      <td>Good</td>\n",
       "      <td>2410.0</td>\n",
       "    </tr>\n",
       "    <tr>\n",
       "      <th>1</th>\n",
       "      <td>2017-11-25 14:00:00</td>\n",
       "      <td>Good</td>\n",
       "      <td>1920.0</td>\n",
       "    </tr>\n",
       "    <tr>\n",
       "      <th>2</th>\n",
       "      <td>2017-11-25 12:00:00</td>\n",
       "      <td>Good</td>\n",
       "      <td>1543.0</td>\n",
       "    </tr>\n",
       "    <tr>\n",
       "      <th>3</th>\n",
       "      <td>2017-11-04 10:00:00</td>\n",
       "      <td>Good</td>\n",
       "      <td>2512.0</td>\n",
       "    </tr>\n",
       "    <tr>\n",
       "      <th>4</th>\n",
       "      <td>2017-11-11 07:00:00</td>\n",
       "      <td>Good</td>\n",
       "      <td>1440.0</td>\n",
       "    </tr>\n",
       "    <tr>\n",
       "      <th>...</th>\n",
       "      <td>...</td>\n",
       "      <td>...</td>\n",
       "      <td>...</td>\n",
       "    </tr>\n",
       "    <tr>\n",
       "      <th>1063</th>\n",
       "      <td>2017-11-25 11:00:00</td>\n",
       "      <td>Good</td>\n",
       "      <td>0.0</td>\n",
       "    </tr>\n",
       "    <tr>\n",
       "      <th>1064</th>\n",
       "      <td>2017-11-11 10:00:00</td>\n",
       "      <td>Good</td>\n",
       "      <td>1318.0</td>\n",
       "    </tr>\n",
       "    <tr>\n",
       "      <th>1065</th>\n",
       "      <td>2017-11-11 13:00:00</td>\n",
       "      <td>Good</td>\n",
       "      <td>2100.0</td>\n",
       "    </tr>\n",
       "    <tr>\n",
       "      <th>1066</th>\n",
       "      <td>2017-11-11 08:00:00</td>\n",
       "      <td>Good</td>\n",
       "      <td>1380.0</td>\n",
       "    </tr>\n",
       "    <tr>\n",
       "      <th>1067</th>\n",
       "      <td>2017-11-04 16:00:00</td>\n",
       "      <td>Bad</td>\n",
       "      <td>2834.0</td>\n",
       "    </tr>\n",
       "  </tbody>\n",
       "</table>\n",
       "<p>1068 rows × 3 columns</p>\n",
       "</div>"
      ],
      "text/plain": [
       "                 start_ts weather_conditions  duration_seconds\n",
       "0     2017-11-25 16:00:00               Good            2410.0\n",
       "1     2017-11-25 14:00:00               Good            1920.0\n",
       "2     2017-11-25 12:00:00               Good            1543.0\n",
       "3     2017-11-04 10:00:00               Good            2512.0\n",
       "4     2017-11-11 07:00:00               Good            1440.0\n",
       "...                   ...                ...               ...\n",
       "1063  2017-11-25 11:00:00               Good               0.0\n",
       "1064  2017-11-11 10:00:00               Good            1318.0\n",
       "1065  2017-11-11 13:00:00               Good            2100.0\n",
       "1066  2017-11-11 08:00:00               Good            1380.0\n",
       "1067  2017-11-04 16:00:00                Bad            2834.0\n",
       "\n",
       "[1068 rows x 3 columns]"
      ]
     },
     "execution_count": 22,
     "metadata": {},
     "output_type": "execute_result"
    }
   ],
   "source": [
    "#Ahora vamos a ver el contenido de la tabla\n",
    "df_weather.info()\n",
    "df_weather"
   ]
  },
  {
   "cell_type": "markdown",
   "metadata": {},
   "source": [
    "La mayoria de los datos se ven normales a excepción de uno que se encuentra en la fila 1063 que nos da una duración de 0 segundos."
   ]
  },
  {
   "cell_type": "code",
   "execution_count": 23,
   "metadata": {},
   "outputs": [
    {
     "data": {
      "text/html": [
       "<div>\n",
       "<style scoped>\n",
       "    .dataframe tbody tr th:only-of-type {\n",
       "        vertical-align: middle;\n",
       "    }\n",
       "\n",
       "    .dataframe tbody tr th {\n",
       "        vertical-align: top;\n",
       "    }\n",
       "\n",
       "    .dataframe thead th {\n",
       "        text-align: right;\n",
       "    }\n",
       "</style>\n",
       "<table border=\"1\" class=\"dataframe\">\n",
       "  <thead>\n",
       "    <tr style=\"text-align: right;\">\n",
       "      <th></th>\n",
       "      <th>start_ts</th>\n",
       "      <th>weather_conditions</th>\n",
       "      <th>duration_seconds</th>\n",
       "    </tr>\n",
       "  </thead>\n",
       "  <tbody>\n",
       "    <tr>\n",
       "      <th>163</th>\n",
       "      <td>2017-11-11 09:00:00</td>\n",
       "      <td>Good</td>\n",
       "      <td>0.0</td>\n",
       "    </tr>\n",
       "    <tr>\n",
       "      <th>168</th>\n",
       "      <td>2017-11-11 07:00:00</td>\n",
       "      <td>Good</td>\n",
       "      <td>0.0</td>\n",
       "    </tr>\n",
       "    <tr>\n",
       "      <th>204</th>\n",
       "      <td>2017-11-18 19:00:00</td>\n",
       "      <td>Good</td>\n",
       "      <td>0.0</td>\n",
       "    </tr>\n",
       "    <tr>\n",
       "      <th>552</th>\n",
       "      <td>2017-11-04 01:00:00</td>\n",
       "      <td>Good</td>\n",
       "      <td>0.0</td>\n",
       "    </tr>\n",
       "    <tr>\n",
       "      <th>801</th>\n",
       "      <td>2017-11-04 09:00:00</td>\n",
       "      <td>Good</td>\n",
       "      <td>0.0</td>\n",
       "    </tr>\n",
       "    <tr>\n",
       "      <th>1063</th>\n",
       "      <td>2017-11-25 11:00:00</td>\n",
       "      <td>Good</td>\n",
       "      <td>0.0</td>\n",
       "    </tr>\n",
       "  </tbody>\n",
       "</table>\n",
       "</div>"
      ],
      "text/plain": [
       "                 start_ts weather_conditions  duration_seconds\n",
       "163   2017-11-11 09:00:00               Good               0.0\n",
       "168   2017-11-11 07:00:00               Good               0.0\n",
       "204   2017-11-18 19:00:00               Good               0.0\n",
       "552   2017-11-04 01:00:00               Good               0.0\n",
       "801   2017-11-04 09:00:00               Good               0.0\n",
       "1063  2017-11-25 11:00:00               Good               0.0"
      ]
     },
     "execution_count": 23,
     "metadata": {},
     "output_type": "execute_result"
    }
   ],
   "source": [
    "#Vamos a buscar más filas que presenten la misma duración de 0 segundos\n",
    "df_weather.loc[df_weather.duration_seconds == 0]"
   ]
  },
  {
   "cell_type": "markdown",
   "metadata": {},
   "source": [
    "Como lo sospechabamos, nos encontramos con 6 viajes que cuentan con una duración de 0 segundos. Esto puede deberse a muchas razones, como que el viaje fue cancelado, error a la hora de cargar los datos, entre muchos más. Por ahora considero que lo mejor seria eliminarlos para que no nos perjudique mucho a la hora de realizar las Pruebas de Hipotesis."
   ]
  },
  {
   "cell_type": "code",
   "execution_count": 24,
   "metadata": {},
   "outputs": [],
   "source": [
    "#Eliminaremos las filaes de manera manual\n",
    "df_weather.drop(index=[163,168,204,552,801,1063],inplace=True)"
   ]
  },
  {
   "cell_type": "code",
   "execution_count": 25,
   "metadata": {},
   "outputs": [
    {
     "data": {
      "text/html": [
       "<div>\n",
       "<style scoped>\n",
       "    .dataframe tbody tr th:only-of-type {\n",
       "        vertical-align: middle;\n",
       "    }\n",
       "\n",
       "    .dataframe tbody tr th {\n",
       "        vertical-align: top;\n",
       "    }\n",
       "\n",
       "    .dataframe thead th {\n",
       "        text-align: right;\n",
       "    }\n",
       "</style>\n",
       "<table border=\"1\" class=\"dataframe\">\n",
       "  <thead>\n",
       "    <tr style=\"text-align: right;\">\n",
       "      <th></th>\n",
       "      <th>start_ts</th>\n",
       "      <th>weather_conditions</th>\n",
       "      <th>duration_seconds</th>\n",
       "    </tr>\n",
       "  </thead>\n",
       "  <tbody>\n",
       "  </tbody>\n",
       "</table>\n",
       "</div>"
      ],
      "text/plain": [
       "Empty DataFrame\n",
       "Columns: [start_ts, weather_conditions, duration_seconds]\n",
       "Index: []"
      ]
     },
     "execution_count": 25,
     "metadata": {},
     "output_type": "execute_result"
    }
   ],
   "source": [
    "#Hay que verificar que se eliminaron correctamente\n",
    "df_weather.loc[df_weather.duration_seconds == 0]"
   ]
  },
  {
   "cell_type": "markdown",
   "metadata": {},
   "source": [
    "<div class=\"alert alert-block alert-success\">\n",
    "<b>Comentario del revisor (1ra Iteracion)</b> <a class=“tocSkip”></a>\n",
    "\n",
    "Muy bien realizada esa limpieza! \n",
    "</div>"
   ]
  },
  {
   "cell_type": "code",
   "execution_count": 26,
   "metadata": {},
   "outputs": [],
   "source": [
    "#Una vez teniendo nuestros datos limpios, podemos obtener dos tablas dependiendo de las condiciones del clima\n",
    "good_weather = df_weather.loc[df_weather.weather_conditions == 'Good']\n",
    "bad_weather = df_weather.loc[df_weather.weather_conditions == 'Bad']"
   ]
  },
  {
   "cell_type": "code",
   "execution_count": 27,
   "metadata": {},
   "outputs": [
    {
     "name": "stdout",
     "output_type": "stream",
     "text": [
      "<class 'pandas.core.frame.DataFrame'>\n",
      "Int64Index: 882 entries, 0 to 1066\n",
      "Data columns (total 3 columns):\n",
      " #   Column              Non-Null Count  Dtype  \n",
      "---  ------              --------------  -----  \n",
      " 0   start_ts            882 non-null    object \n",
      " 1   weather_conditions  882 non-null    object \n",
      " 2   duration_seconds    882 non-null    float64\n",
      "dtypes: float64(1), object(2)\n",
      "memory usage: 27.6+ KB\n"
     ]
    }
   ],
   "source": [
    "#Vamos analizar la primer tabla donde la condición del clima es buena\n",
    "good_weather.info()"
   ]
  },
  {
   "cell_type": "markdown",
   "metadata": {},
   "source": [
    "Teniendo esta información, ya que necesitamos que nuestras pruebas de hipotesis sean precisas, vamos a buscar Valores Atipicos dentro de las tablas las pueden interferir en nuestros análisis."
   ]
  },
  {
   "cell_type": "code",
   "execution_count": 28,
   "metadata": {},
   "outputs": [],
   "source": [
    "def remove_outliers(df,column:str): #Con esta sintaxis vamos a entregar el DF y la columna que necesitamos modificar\n",
    "    \n",
    "    mean =  df[column].mean()\n",
    "    \n",
    "    std = df[column].std()\n",
    "    \n",
    "    z_scores = ((df[column] - mean)/std).abs()\n",
    "    \n",
    "    inliers_map = z_scores<=3\n",
    "    \n",
    "    inliers_df = df[inliers_map]\n",
    "    \n",
    "    return inliers_df"
   ]
  },
  {
   "cell_type": "markdown",
   "metadata": {},
   "source": [
    "Con la formula anterior determinamos nuestro media, desviacion estandar y establecimos el valor de nuestro Z_scores para que los que sean menores o iguales a 3 sean eliminados."
   ]
  },
  {
   "cell_type": "code",
   "execution_count": 29,
   "metadata": {
    "scrolled": true
   },
   "outputs": [
    {
     "data": {
      "text/html": [
       "<div>\n",
       "<style scoped>\n",
       "    .dataframe tbody tr th:only-of-type {\n",
       "        vertical-align: middle;\n",
       "    }\n",
       "\n",
       "    .dataframe tbody tr th {\n",
       "        vertical-align: top;\n",
       "    }\n",
       "\n",
       "    .dataframe thead th {\n",
       "        text-align: right;\n",
       "    }\n",
       "</style>\n",
       "<table border=\"1\" class=\"dataframe\">\n",
       "  <thead>\n",
       "    <tr style=\"text-align: right;\">\n",
       "      <th></th>\n",
       "      <th>start_ts</th>\n",
       "      <th>weather_conditions</th>\n",
       "      <th>duration_seconds</th>\n",
       "    </tr>\n",
       "  </thead>\n",
       "  <tbody>\n",
       "    <tr>\n",
       "      <th>0</th>\n",
       "      <td>2017-11-25 16:00:00</td>\n",
       "      <td>Good</td>\n",
       "      <td>2410.0</td>\n",
       "    </tr>\n",
       "    <tr>\n",
       "      <th>1</th>\n",
       "      <td>2017-11-25 14:00:00</td>\n",
       "      <td>Good</td>\n",
       "      <td>1920.0</td>\n",
       "    </tr>\n",
       "    <tr>\n",
       "      <th>2</th>\n",
       "      <td>2017-11-25 12:00:00</td>\n",
       "      <td>Good</td>\n",
       "      <td>1543.0</td>\n",
       "    </tr>\n",
       "    <tr>\n",
       "      <th>3</th>\n",
       "      <td>2017-11-04 10:00:00</td>\n",
       "      <td>Good</td>\n",
       "      <td>2512.0</td>\n",
       "    </tr>\n",
       "    <tr>\n",
       "      <th>4</th>\n",
       "      <td>2017-11-11 07:00:00</td>\n",
       "      <td>Good</td>\n",
       "      <td>1440.0</td>\n",
       "    </tr>\n",
       "    <tr>\n",
       "      <th>...</th>\n",
       "      <td>...</td>\n",
       "      <td>...</td>\n",
       "      <td>...</td>\n",
       "    </tr>\n",
       "    <tr>\n",
       "      <th>1060</th>\n",
       "      <td>2017-11-04 14:00:00</td>\n",
       "      <td>Good</td>\n",
       "      <td>2700.0</td>\n",
       "    </tr>\n",
       "    <tr>\n",
       "      <th>1062</th>\n",
       "      <td>2017-11-11 06:00:00</td>\n",
       "      <td>Good</td>\n",
       "      <td>1500.0</td>\n",
       "    </tr>\n",
       "    <tr>\n",
       "      <th>1064</th>\n",
       "      <td>2017-11-11 10:00:00</td>\n",
       "      <td>Good</td>\n",
       "      <td>1318.0</td>\n",
       "    </tr>\n",
       "    <tr>\n",
       "      <th>1065</th>\n",
       "      <td>2017-11-11 13:00:00</td>\n",
       "      <td>Good</td>\n",
       "      <td>2100.0</td>\n",
       "    </tr>\n",
       "    <tr>\n",
       "      <th>1066</th>\n",
       "      <td>2017-11-11 08:00:00</td>\n",
       "      <td>Good</td>\n",
       "      <td>1380.0</td>\n",
       "    </tr>\n",
       "  </tbody>\n",
       "</table>\n",
       "<p>877 rows × 3 columns</p>\n",
       "</div>"
      ],
      "text/plain": [
       "                 start_ts weather_conditions  duration_seconds\n",
       "0     2017-11-25 16:00:00               Good            2410.0\n",
       "1     2017-11-25 14:00:00               Good            1920.0\n",
       "2     2017-11-25 12:00:00               Good            1543.0\n",
       "3     2017-11-04 10:00:00               Good            2512.0\n",
       "4     2017-11-11 07:00:00               Good            1440.0\n",
       "...                   ...                ...               ...\n",
       "1060  2017-11-04 14:00:00               Good            2700.0\n",
       "1062  2017-11-11 06:00:00               Good            1500.0\n",
       "1064  2017-11-11 10:00:00               Good            1318.0\n",
       "1065  2017-11-11 13:00:00               Good            2100.0\n",
       "1066  2017-11-11 08:00:00               Good            1380.0\n",
       "\n",
       "[877 rows x 3 columns]"
      ]
     },
     "execution_count": 29,
     "metadata": {},
     "output_type": "execute_result"
    }
   ],
   "source": [
    "#Una vez establecida la formula, vamos a probarla en nuestras tablas de condiciones de clima\n",
    "remove_outliers(good_weather,'duration_seconds')"
   ]
  },
  {
   "cell_type": "markdown",
   "metadata": {},
   "source": [
    "<div class=\"alert alert-block alert-success\">\n",
    "<b>Comentario del revisor (1ra Iteracion)</b> <a class=“tocSkip”></a>\n",
    "\n",
    "Correcto, siempre es importante tener en cuenta los valores atípicos ya que estos pueden alterar las métricas que se calculen e incluso los resultados en las pruebas estadísticas\n",
    "</div>"
   ]
  },
  {
   "cell_type": "markdown",
   "metadata": {},
   "source": [
    "Nos devolvio 877 filas, lo cual significa que fueron muy pocos los valores atipicos que elimino. De esta manera podemos proceder a utilizar esta información para nuestra prueba de hipotesis ya que contamos con información lo más precisa que se puede."
   ]
  },
  {
   "cell_type": "code",
   "execution_count": 30,
   "metadata": {},
   "outputs": [],
   "source": [
    "#Actualizamos nuestra tabla de condiciones de clima buenas\n",
    "good_weather = remove_outliers(good_weather,'duration_seconds')"
   ]
  },
  {
   "cell_type": "code",
   "execution_count": 31,
   "metadata": {},
   "outputs": [
    {
     "name": "stdout",
     "output_type": "stream",
     "text": [
      "<class 'pandas.core.frame.DataFrame'>\n",
      "Int64Index: 180 entries, 6 to 1067\n",
      "Data columns (total 3 columns):\n",
      " #   Column              Non-Null Count  Dtype  \n",
      "---  ------              --------------  -----  \n",
      " 0   start_ts            180 non-null    object \n",
      " 1   weather_conditions  180 non-null    object \n",
      " 2   duration_seconds    180 non-null    float64\n",
      "dtypes: float64(1), object(2)\n",
      "memory usage: 5.6+ KB\n"
     ]
    }
   ],
   "source": [
    "#Revisamos nuestra otra tabla\n",
    "bad_weather.info()"
   ]
  },
  {
   "cell_type": "code",
   "execution_count": 32,
   "metadata": {},
   "outputs": [
    {
     "data": {
      "text/html": [
       "<div>\n",
       "<style scoped>\n",
       "    .dataframe tbody tr th:only-of-type {\n",
       "        vertical-align: middle;\n",
       "    }\n",
       "\n",
       "    .dataframe tbody tr th {\n",
       "        vertical-align: top;\n",
       "    }\n",
       "\n",
       "    .dataframe thead th {\n",
       "        text-align: right;\n",
       "    }\n",
       "</style>\n",
       "<table border=\"1\" class=\"dataframe\">\n",
       "  <thead>\n",
       "    <tr style=\"text-align: right;\">\n",
       "      <th></th>\n",
       "      <th>start_ts</th>\n",
       "      <th>weather_conditions</th>\n",
       "      <th>duration_seconds</th>\n",
       "    </tr>\n",
       "  </thead>\n",
       "  <tbody>\n",
       "    <tr>\n",
       "      <th>6</th>\n",
       "      <td>2017-11-04 16:00:00</td>\n",
       "      <td>Bad</td>\n",
       "      <td>2969.0</td>\n",
       "    </tr>\n",
       "    <tr>\n",
       "      <th>30</th>\n",
       "      <td>2017-11-18 12:00:00</td>\n",
       "      <td>Bad</td>\n",
       "      <td>1980.0</td>\n",
       "    </tr>\n",
       "    <tr>\n",
       "      <th>34</th>\n",
       "      <td>2017-11-04 17:00:00</td>\n",
       "      <td>Bad</td>\n",
       "      <td>2460.0</td>\n",
       "    </tr>\n",
       "    <tr>\n",
       "      <th>51</th>\n",
       "      <td>2017-11-04 16:00:00</td>\n",
       "      <td>Bad</td>\n",
       "      <td>2760.0</td>\n",
       "    </tr>\n",
       "    <tr>\n",
       "      <th>52</th>\n",
       "      <td>2017-11-18 12:00:00</td>\n",
       "      <td>Bad</td>\n",
       "      <td>2460.0</td>\n",
       "    </tr>\n",
       "    <tr>\n",
       "      <th>...</th>\n",
       "      <td>...</td>\n",
       "      <td>...</td>\n",
       "      <td>...</td>\n",
       "    </tr>\n",
       "    <tr>\n",
       "      <th>1031</th>\n",
       "      <td>2017-11-18 12:00:00</td>\n",
       "      <td>Bad</td>\n",
       "      <td>2560.0</td>\n",
       "    </tr>\n",
       "    <tr>\n",
       "      <th>1032</th>\n",
       "      <td>2017-11-18 10:00:00</td>\n",
       "      <td>Bad</td>\n",
       "      <td>1908.0</td>\n",
       "    </tr>\n",
       "    <tr>\n",
       "      <th>1053</th>\n",
       "      <td>2017-11-18 12:00:00</td>\n",
       "      <td>Bad</td>\n",
       "      <td>2400.0</td>\n",
       "    </tr>\n",
       "    <tr>\n",
       "      <th>1061</th>\n",
       "      <td>2017-11-18 16:00:00</td>\n",
       "      <td>Bad</td>\n",
       "      <td>2186.0</td>\n",
       "    </tr>\n",
       "    <tr>\n",
       "      <th>1067</th>\n",
       "      <td>2017-11-04 16:00:00</td>\n",
       "      <td>Bad</td>\n",
       "      <td>2834.0</td>\n",
       "    </tr>\n",
       "  </tbody>\n",
       "</table>\n",
       "<p>179 rows × 3 columns</p>\n",
       "</div>"
      ],
      "text/plain": [
       "                 start_ts weather_conditions  duration_seconds\n",
       "6     2017-11-04 16:00:00                Bad            2969.0\n",
       "30    2017-11-18 12:00:00                Bad            1980.0\n",
       "34    2017-11-04 17:00:00                Bad            2460.0\n",
       "51    2017-11-04 16:00:00                Bad            2760.0\n",
       "52    2017-11-18 12:00:00                Bad            2460.0\n",
       "...                   ...                ...               ...\n",
       "1031  2017-11-18 12:00:00                Bad            2560.0\n",
       "1032  2017-11-18 10:00:00                Bad            1908.0\n",
       "1053  2017-11-18 12:00:00                Bad            2400.0\n",
       "1061  2017-11-18 16:00:00                Bad            2186.0\n",
       "1067  2017-11-04 16:00:00                Bad            2834.0\n",
       "\n",
       "[179 rows x 3 columns]"
      ]
     },
     "execution_count": 32,
     "metadata": {},
     "output_type": "execute_result"
    }
   ],
   "source": [
    "#Y aplicamos el mismo procedicimiento con la otra tabla de condiciones de clima malas\n",
    "remove_outliers(bad_weather,'duration_seconds')"
   ]
  },
  {
   "cell_type": "code",
   "execution_count": 33,
   "metadata": {},
   "outputs": [],
   "source": [
    "#Y actualizamos nuestra tabla libre de valores atipicos\n",
    "bad_weather = remove_outliers(bad_weather,'duration_seconds')"
   ]
  },
  {
   "cell_type": "markdown",
   "metadata": {},
   "source": [
    "Por la cantidad de datos que tenemos en la tabla de \"good_weather\" a comparación de la tabla de \"bad_weather\" nos da a entender que la gran mayoria de los dias hubo un muy buen clima en la ciudad."
   ]
  },
  {
   "cell_type": "markdown",
   "metadata": {},
   "source": [
    "**Ya que tenemos nuestros datos precisos, ya podemos proceder a realizar nuestra prueba de hipotesis:**\n",
    "\n",
    "A continuación vamos a definir la hipótesis nula y la alternativa de la siguiente manera:\n",
    "\n",
    "*H0: La duración promedio de los viajes desde el Loop hasta el Aeropuerto Internacional O'Hare no cambia los sábados lluviosos.*\n",
    "\n",
    "*H1: La duración promedio de los viajes desde el Loop hasta el Aeropuerto Internacional O'Hare cambia los sábados lluviosos.*\n",
    "\n",
    "Por ultimo nos queda definir nuestro factor de significancia alpha, el cual vamos a determinar como 0.05\n",
    "\n",
    "Antes de empezar con nuestras pruebas de hipotesis, ya que estamos tratando con dos conjuntos de datos podemos utilizar la funcion \"ttest_ind\" aunque antes tendríamos que verificar si los conjuntos de datos poseen varianzas estadisticamente iguales o no."
   ]
  },
  {
   "cell_type": "code",
   "execution_count": 34,
   "metadata": {},
   "outputs": [],
   "source": [
    "#Antes de empezar vamos a guardar en dos variables diferentes las dos tablas que vamos a comparar\n",
    "good_weather_data = good_weather['duration_seconds']\n",
    "bad_weather_data = bad_weather['duration_seconds']"
   ]
  },
  {
   "cell_type": "code",
   "execution_count": 35,
   "metadata": {},
   "outputs": [
    {
     "name": "stdout",
     "output_type": "stream",
     "text": [
      "p-value:  0.7888178851804917\n",
      "No podemos afirmar que las varianzas son estadisticamente diferentes\n"
     ]
    }
   ],
   "source": [
    "#Teniendo nuestros datos en variables diferentes, vamos a realizar la prueba de Levanue para analizar si estos conjuntos de datos poseen varianzas estadisticamente iguales o no\n",
    "\n",
    "alpha = 0.05\n",
    "\n",
    "results = st.levene(good_weather_data,bad_weather_data)\n",
    "\n",
    "print('p-value: ', results.pvalue)\n",
    "\n",
    "if (results.pvalue < alpha):\n",
    "    print('Las varianzas son estadisticamente diferentes')\n",
    "else:\n",
    "    print(\"No podemos afirmar que las varianzas son estadisticamente diferentes\")"
   ]
  },
  {
   "cell_type": "code",
   "execution_count": 36,
   "metadata": {},
   "outputs": [
    {
     "name": "stdout",
     "output_type": "stream",
     "text": [
      "p-value:  2.3968233040077725e-13\n",
      "Rechazamos la hipótesis nula\n"
     ]
    }
   ],
   "source": [
    "# Ya que realizamos la prueba y dios como resultados que las varianzas son similares, ya podemos realizar nuestra prueba de hipotesis antes mencionada\n",
    "alpha = 0.05\n",
    "\n",
    "# Ya que nos dijo anteriormente que las varianzas no son diferentes, entonces establecemos el parámetro equal_var como True\n",
    "results = st.ttest_ind(good_weather_data, bad_weather_data, equal_var=True)\n",
    "\n",
    "print('p-value: ', results.pvalue)\n",
    "\n",
    "if (results.pvalue < alpha):\n",
    "    print('Rechazamos la hipótesis nula')\n",
    "else:\n",
    "    print(\"No rechazamos la hipótesis nula\")"
   ]
  },
  {
   "cell_type": "markdown",
   "metadata": {},
   "source": [
    "Como podemos observar, la prueba de hipotesis nos rechazo la hipotesis nula. Lo cual significa que \"La duración promedio de los viajes desde el Loop hasta el Aeropuerto Internacional O'Hare cambia los sábados lluviosos\". Obviamente depende mucho ya que hay personas que les da igual el clima, a ellos les interesa llegar a su destino pero es bueno saber que la gran mayoria prefiere no arriesgarse ese dia por el clima que hay en ese barrio en especifico."
   ]
  },
  {
   "cell_type": "markdown",
   "metadata": {},
   "source": [
    "# <a id='toc7_'></a>[Conclusiones finales](#toc7_)"
   ]
  },
  {
   "cell_type": "markdown",
   "metadata": {},
   "source": [
    "Antes de realizar todo este análisis, pudimos utilizar las herramientas que nos otorga SQL, de esta manera desarrollamos lo aprendido en este sprint. Utilizamos diferentes maneras de unir tablas y datos en una misma linea de codigo de SQL esto con el fin de organizar nuestra información\n",
    "\n",
    "Ya luego pasamos a realizar un análisis con el lenguaje Python, el cual ya estamos acostumbrados y a este paso ya realizamos los diferentes procedimientos ya casi por inercia o costumbre.\n",
    "\n",
    "Durante el análisis nos topamos con pocos datos a comparación de otros proyectos realizados, los cuales me sorprendio mucho que no contara con valores ausentes o valores duplicados. Lo cual de esta manera nos facilito mucho el proceso de análisis.\n",
    "\n",
    "Una vez realizado el análisis, nos dimos cuenta que en el DF de Compañias, dominaba por mucha la compañoa llamada \"Flash Cab\". la cual era la más popular de la ciudad de Chicago. Practicamente las demas compañias no podrian competir contra la TOP 1, ya si hablamos de los TOP 2,3 y 4 ahi los resultados si estaban reñidos y practicamente competian entre ellas.\n",
    "\n",
    "Ahora, si hablamos del otro DF que vienen siendo los barrios de la ciudad de Chicago, pudimos observar que el TOP 1 \"Loop\" destaco mucho por el simple hecho de tener mucho más lugares turisticos que el resto, lo cual hacia que muchas personas utilizaran como medio de transporte el Taxi. Pero a diferencia de los demas barrios, no existia una diferencia descomunal como en el otro DF.\n",
    "\n",
    "Y por ultimo, en nuestra prueba de hipotesis nos otorgo un p-value muy pequeño, el cual nos da como resultado rechazar la hipotesis nula que nos da a entender que por culpa del clima y por no arriesgarse, la duración de los viajes es mucho menor a comparación de que no este lloviendo los dias sabados."
   ]
  },
  {
   "cell_type": "markdown",
   "metadata": {},
   "source": [
    "<div class=\"alert alert-block alert-success\">\n",
    "<b>Comentario general (1ra Iteracion)</b> <a class=“tocSkip”></a>\n",
    "\n",
    "Te felicito por el trabajo realizado! Analizaste y mostraste gráficas súper claras para el objetivo de este proyecto, además demostraste un manejo súper bueno del concepto de las pruebas de hipótesis lo cual es un punto importante cuando en tu vida laboral estés realizando pruebas AB ya que la decisión final debe estar argumentada con una prueba de hipótesis para decidir que grupo experimental está teniendo mejor desempeño. Buen trabajo!\n",
    "</div>"
   ]
  }
 ],
 "metadata": {
  "ExecuteTimeLog": [
   {
    "duration": 2685,
    "start_time": "2024-11-08T19:47:32.463Z"
   },
   {
    "duration": 623,
    "start_time": "2024-11-08T19:52:02.522Z"
   },
   {
    "duration": 11,
    "start_time": "2024-11-08T19:52:28.203Z"
   },
   {
    "duration": 8,
    "start_time": "2024-11-08T19:58:38.837Z"
   },
   {
    "duration": 21,
    "start_time": "2024-11-08T20:00:03.684Z"
   },
   {
    "duration": 15,
    "start_time": "2024-11-08T20:11:18.579Z"
   },
   {
    "duration": 6,
    "start_time": "2024-11-08T20:34:17.062Z"
   },
   {
    "duration": 4,
    "start_time": "2024-11-08T20:34:23.452Z"
   },
   {
    "duration": 853,
    "start_time": "2024-11-08T20:34:31.037Z"
   },
   {
    "duration": 9,
    "start_time": "2024-11-08T20:34:31.892Z"
   },
   {
    "duration": 18,
    "start_time": "2024-11-08T20:34:31.903Z"
   },
   {
    "duration": 21,
    "start_time": "2024-11-08T20:34:31.923Z"
   },
   {
    "duration": 7,
    "start_time": "2024-11-08T20:34:31.947Z"
   },
   {
    "duration": 5,
    "start_time": "2024-11-08T20:37:26.551Z"
   },
   {
    "duration": 4,
    "start_time": "2024-11-08T20:39:27.061Z"
   },
   {
    "duration": 3,
    "start_time": "2024-11-08T20:44:11.691Z"
   },
   {
    "duration": 8,
    "start_time": "2024-11-08T20:45:07.072Z"
   },
   {
    "duration": 5,
    "start_time": "2024-11-08T20:46:20.702Z"
   },
   {
    "duration": 4,
    "start_time": "2024-11-08T20:46:44.439Z"
   },
   {
    "duration": 252,
    "start_time": "2024-11-08T20:48:39.357Z"
   },
   {
    "duration": 4,
    "start_time": "2024-11-08T20:49:03.701Z"
   },
   {
    "duration": 9,
    "start_time": "2024-11-08T20:52:34.545Z"
   },
   {
    "duration": 112,
    "start_time": "2024-11-08T20:55:08.816Z"
   },
   {
    "duration": 120,
    "start_time": "2024-11-08T20:55:19.687Z"
   },
   {
    "duration": 106,
    "start_time": "2024-11-08T20:55:26.963Z"
   },
   {
    "duration": 6,
    "start_time": "2024-11-08T23:12:49.326Z"
   },
   {
    "duration": 777,
    "start_time": "2024-11-08T23:12:56.728Z"
   },
   {
    "duration": 9,
    "start_time": "2024-11-08T23:12:57.507Z"
   },
   {
    "duration": 16,
    "start_time": "2024-11-08T23:12:57.517Z"
   },
   {
    "duration": 13,
    "start_time": "2024-11-08T23:12:57.535Z"
   },
   {
    "duration": 5,
    "start_time": "2024-11-08T23:12:57.549Z"
   },
   {
    "duration": 5,
    "start_time": "2024-11-08T23:12:57.555Z"
   },
   {
    "duration": 4,
    "start_time": "2024-11-08T23:12:57.561Z"
   },
   {
    "duration": 3,
    "start_time": "2024-11-08T23:12:57.566Z"
   },
   {
    "duration": 6,
    "start_time": "2024-11-08T23:12:57.605Z"
   },
   {
    "duration": 3,
    "start_time": "2024-11-08T23:12:57.614Z"
   },
   {
    "duration": 4,
    "start_time": "2024-11-08T23:12:57.619Z"
   },
   {
    "duration": 4,
    "start_time": "2024-11-08T23:12:57.625Z"
   },
   {
    "duration": 8,
    "start_time": "2024-11-08T23:12:57.631Z"
   },
   {
    "duration": 148,
    "start_time": "2024-11-08T23:12:57.640Z"
   },
   {
    "duration": 5,
    "start_time": "2024-11-08T23:12:57.791Z"
   },
   {
    "duration": 237,
    "start_time": "2024-11-08T23:14:30.085Z"
   },
   {
    "duration": 9,
    "start_time": "2024-11-08T23:19:07.206Z"
   },
   {
    "duration": 168,
    "start_time": "2024-11-08T23:21:13.372Z"
   },
   {
    "duration": 212,
    "start_time": "2024-11-08T23:22:28.125Z"
   },
   {
    "duration": 7,
    "start_time": "2024-11-08T23:22:30.162Z"
   },
   {
    "duration": 215,
    "start_time": "2024-11-08T23:23:56.185Z"
   },
   {
    "duration": 8,
    "start_time": "2024-11-08T23:58:01.029Z"
   },
   {
    "duration": 15,
    "start_time": "2024-11-08T23:58:42.885Z"
   },
   {
    "duration": 15,
    "start_time": "2024-11-09T00:01:55.727Z"
   },
   {
    "duration": 4,
    "start_time": "2024-11-09T00:05:18.784Z"
   },
   {
    "duration": 657,
    "start_time": "2024-11-09T00:06:18.086Z"
   },
   {
    "duration": 36,
    "start_time": "2024-11-09T00:06:36.096Z"
   },
   {
    "duration": 6,
    "start_time": "2024-11-09T00:06:40.409Z"
   },
   {
    "duration": 819,
    "start_time": "2024-11-09T00:06:47.729Z"
   },
   {
    "duration": 9,
    "start_time": "2024-11-09T00:06:48.550Z"
   },
   {
    "duration": 14,
    "start_time": "2024-11-09T00:06:48.560Z"
   },
   {
    "duration": 12,
    "start_time": "2024-11-09T00:06:48.576Z"
   },
   {
    "duration": 4,
    "start_time": "2024-11-09T00:06:48.607Z"
   },
   {
    "duration": 4,
    "start_time": "2024-11-09T00:06:48.612Z"
   },
   {
    "duration": 4,
    "start_time": "2024-11-09T00:06:48.618Z"
   },
   {
    "duration": 3,
    "start_time": "2024-11-09T00:06:48.623Z"
   },
   {
    "duration": 6,
    "start_time": "2024-11-09T00:06:48.628Z"
   },
   {
    "duration": 4,
    "start_time": "2024-11-09T00:06:48.635Z"
   },
   {
    "duration": 4,
    "start_time": "2024-11-09T00:06:48.640Z"
   },
   {
    "duration": 4,
    "start_time": "2024-11-09T00:06:48.646Z"
   },
   {
    "duration": 55,
    "start_time": "2024-11-09T00:06:48.651Z"
   },
   {
    "duration": 115,
    "start_time": "2024-11-09T00:06:48.710Z"
   },
   {
    "duration": 6,
    "start_time": "2024-11-09T00:06:48.826Z"
   },
   {
    "duration": 267,
    "start_time": "2024-11-09T00:06:48.834Z"
   },
   {
    "duration": 11,
    "start_time": "2024-11-09T00:06:49.103Z"
   },
   {
    "duration": 153,
    "start_time": "2024-11-09T00:06:49.116Z"
   },
   {
    "duration": 6,
    "start_time": "2024-11-09T00:06:49.270Z"
   },
   {
    "duration": 212,
    "start_time": "2024-11-09T00:06:49.279Z"
   },
   {
    "duration": 5,
    "start_time": "2024-11-09T00:06:49.492Z"
   },
   {
    "duration": 20,
    "start_time": "2024-11-09T00:06:49.499Z"
   },
   {
    "duration": 8,
    "start_time": "2024-11-09T00:06:49.521Z"
   },
   {
    "duration": 4,
    "start_time": "2024-11-09T00:06:49.530Z"
   },
   {
    "duration": 6,
    "start_time": "2024-11-09T00:06:49.537Z"
   },
   {
    "duration": 2924,
    "start_time": "2024-11-09T02:28:37.058Z"
   },
   {
    "duration": 20,
    "start_time": "2024-11-09T02:28:39.984Z"
   },
   {
    "duration": 18,
    "start_time": "2024-11-09T02:28:40.006Z"
   },
   {
    "duration": 11,
    "start_time": "2024-11-09T02:28:40.025Z"
   },
   {
    "duration": 6,
    "start_time": "2024-11-09T02:28:40.038Z"
   },
   {
    "duration": 6,
    "start_time": "2024-11-09T02:28:40.048Z"
   },
   {
    "duration": 5,
    "start_time": "2024-11-09T02:28:40.057Z"
   },
   {
    "duration": 5,
    "start_time": "2024-11-09T02:28:40.064Z"
   },
   {
    "duration": 9,
    "start_time": "2024-11-09T02:28:40.071Z"
   },
   {
    "duration": 3,
    "start_time": "2024-11-09T02:28:40.082Z"
   },
   {
    "duration": 4,
    "start_time": "2024-11-09T02:28:40.087Z"
   },
   {
    "duration": 4,
    "start_time": "2024-11-09T02:28:40.093Z"
   },
   {
    "duration": 28,
    "start_time": "2024-11-09T02:28:40.134Z"
   },
   {
    "duration": 121,
    "start_time": "2024-11-09T02:28:40.166Z"
   },
   {
    "duration": 6,
    "start_time": "2024-11-09T02:28:40.289Z"
   },
   {
    "duration": 331,
    "start_time": "2024-11-09T02:28:40.296Z"
   },
   {
    "duration": 18,
    "start_time": "2024-11-09T02:28:40.629Z"
   },
   {
    "duration": 119,
    "start_time": "2024-11-09T02:28:40.648Z"
   },
   {
    "duration": 7,
    "start_time": "2024-11-09T02:28:40.769Z"
   },
   {
    "duration": 212,
    "start_time": "2024-11-09T02:28:40.778Z"
   },
   {
    "duration": 12,
    "start_time": "2024-11-09T02:28:40.993Z"
   },
   {
    "duration": 50,
    "start_time": "2024-11-09T02:28:41.006Z"
   },
   {
    "duration": 10,
    "start_time": "2024-11-09T02:28:41.060Z"
   },
   {
    "duration": 3,
    "start_time": "2024-11-09T02:28:41.072Z"
   },
   {
    "duration": 7,
    "start_time": "2024-11-09T02:28:41.077Z"
   },
   {
    "duration": 4,
    "start_time": "2024-11-09T02:30:06.456Z"
   },
   {
    "duration": 19,
    "start_time": "2024-11-09T02:30:51.744Z"
   },
   {
    "duration": 7,
    "start_time": "2024-11-09T02:35:47.736Z"
   },
   {
    "duration": 10,
    "start_time": "2024-11-09T02:38:40.963Z"
   },
   {
    "duration": 4,
    "start_time": "2024-11-09T02:41:46.366Z"
   },
   {
    "duration": 9,
    "start_time": "2024-11-09T02:43:16.757Z"
   },
   {
    "duration": 15,
    "start_time": "2024-11-09T02:43:23.228Z"
   },
   {
    "duration": 3,
    "start_time": "2024-11-09T02:43:50.608Z"
   },
   {
    "duration": 4,
    "start_time": "2024-11-09T02:44:12.095Z"
   },
   {
    "duration": 3,
    "start_time": "2024-11-09T02:52:58.371Z"
   },
   {
    "duration": 7,
    "start_time": "2024-11-09T02:55:41.224Z"
   },
   {
    "duration": 4,
    "start_time": "2024-11-09T02:56:06.597Z"
   },
   {
    "duration": 4,
    "start_time": "2024-11-09T02:58:10.342Z"
   },
   {
    "duration": 824,
    "start_time": "2024-11-09T03:14:23.007Z"
   },
   {
    "duration": 33,
    "start_time": "2024-11-09T03:14:23.833Z"
   },
   {
    "duration": 24,
    "start_time": "2024-11-09T03:14:23.870Z"
   },
   {
    "duration": 14,
    "start_time": "2024-11-09T03:14:23.897Z"
   },
   {
    "duration": 5,
    "start_time": "2024-11-09T03:14:23.913Z"
   },
   {
    "duration": 4,
    "start_time": "2024-11-09T03:14:23.920Z"
   },
   {
    "duration": 14,
    "start_time": "2024-11-09T03:14:23.926Z"
   },
   {
    "duration": 3,
    "start_time": "2024-11-09T03:14:23.941Z"
   },
   {
    "duration": 7,
    "start_time": "2024-11-09T03:14:23.947Z"
   },
   {
    "duration": 4,
    "start_time": "2024-11-09T03:14:23.957Z"
   },
   {
    "duration": 4,
    "start_time": "2024-11-09T03:14:23.964Z"
   },
   {
    "duration": 4,
    "start_time": "2024-11-09T03:14:23.969Z"
   },
   {
    "duration": 10,
    "start_time": "2024-11-09T03:14:23.975Z"
   },
   {
    "duration": 168,
    "start_time": "2024-11-09T03:14:23.987Z"
   },
   {
    "duration": 7,
    "start_time": "2024-11-09T03:14:24.162Z"
   },
   {
    "duration": 285,
    "start_time": "2024-11-09T03:14:24.171Z"
   },
   {
    "duration": 10,
    "start_time": "2024-11-09T03:14:24.458Z"
   },
   {
    "duration": 201,
    "start_time": "2024-11-09T03:14:24.470Z"
   },
   {
    "duration": 6,
    "start_time": "2024-11-09T03:14:24.673Z"
   },
   {
    "duration": 219,
    "start_time": "2024-11-09T03:14:24.681Z"
   },
   {
    "duration": 6,
    "start_time": "2024-11-09T03:14:24.902Z"
   },
   {
    "duration": 40,
    "start_time": "2024-11-09T03:14:24.911Z"
   },
   {
    "duration": 9,
    "start_time": "2024-11-09T03:14:24.958Z"
   },
   {
    "duration": 3,
    "start_time": "2024-11-09T03:14:24.970Z"
   },
   {
    "duration": 6,
    "start_time": "2024-11-09T03:14:24.974Z"
   },
   {
    "duration": 5,
    "start_time": "2024-11-09T03:14:24.983Z"
   },
   {
    "duration": 9,
    "start_time": "2024-11-09T03:14:24.990Z"
   },
   {
    "duration": 3,
    "start_time": "2024-11-09T03:14:25.003Z"
   },
   {
    "duration": 11,
    "start_time": "2024-11-09T03:14:25.007Z"
   },
   {
    "duration": 16,
    "start_time": "2024-11-09T03:14:25.019Z"
   },
   {
    "duration": 23,
    "start_time": "2024-11-09T03:14:25.040Z"
   },
   {
    "duration": 9,
    "start_time": "2024-11-09T03:14:25.065Z"
   },
   {
    "duration": 4,
    "start_time": "2024-11-09T03:14:25.076Z"
   },
   {
    "duration": 3,
    "start_time": "2024-11-09T03:14:25.082Z"
   },
   {
    "duration": 4,
    "start_time": "2024-11-09T03:14:25.087Z"
   },
   {
    "duration": 4,
    "start_time": "2024-11-09T03:14:25.092Z"
   },
   {
    "duration": 838,
    "start_time": "2024-11-09T03:27:31.980Z"
   },
   {
    "duration": 44,
    "start_time": "2024-11-09T03:27:32.820Z"
   },
   {
    "duration": 18,
    "start_time": "2024-11-09T03:27:32.865Z"
   },
   {
    "duration": 14,
    "start_time": "2024-11-09T03:27:32.885Z"
   },
   {
    "duration": 6,
    "start_time": "2024-11-09T03:27:32.900Z"
   },
   {
    "duration": 4,
    "start_time": "2024-11-09T03:27:32.909Z"
   },
   {
    "duration": 7,
    "start_time": "2024-11-09T03:27:32.914Z"
   },
   {
    "duration": 4,
    "start_time": "2024-11-09T03:27:32.923Z"
   },
   {
    "duration": 11,
    "start_time": "2024-11-09T03:27:32.935Z"
   },
   {
    "duration": 5,
    "start_time": "2024-11-09T03:27:32.949Z"
   },
   {
    "duration": 4,
    "start_time": "2024-11-09T03:27:32.956Z"
   },
   {
    "duration": 8,
    "start_time": "2024-11-09T03:27:32.962Z"
   },
   {
    "duration": 10,
    "start_time": "2024-11-09T03:27:32.972Z"
   },
   {
    "duration": 167,
    "start_time": "2024-11-09T03:27:32.984Z"
   },
   {
    "duration": 6,
    "start_time": "2024-11-09T03:27:33.153Z"
   },
   {
    "duration": 289,
    "start_time": "2024-11-09T03:27:33.160Z"
   },
   {
    "duration": 12,
    "start_time": "2024-11-09T03:27:33.451Z"
   },
   {
    "duration": 158,
    "start_time": "2024-11-09T03:27:33.465Z"
   },
   {
    "duration": 7,
    "start_time": "2024-11-09T03:27:33.624Z"
   },
   {
    "duration": 226,
    "start_time": "2024-11-09T03:27:33.632Z"
   },
   {
    "duration": 22,
    "start_time": "2024-11-09T03:27:33.859Z"
   },
   {
    "duration": 16,
    "start_time": "2024-11-09T03:27:33.884Z"
   },
   {
    "duration": 8,
    "start_time": "2024-11-09T03:27:33.902Z"
   },
   {
    "duration": 23,
    "start_time": "2024-11-09T03:27:33.912Z"
   },
   {
    "duration": 13,
    "start_time": "2024-11-09T03:27:33.948Z"
   },
   {
    "duration": 4,
    "start_time": "2024-11-09T03:27:33.962Z"
   },
   {
    "duration": 8,
    "start_time": "2024-11-09T03:27:33.968Z"
   },
   {
    "duration": 3,
    "start_time": "2024-11-09T03:27:33.980Z"
   },
   {
    "duration": 9,
    "start_time": "2024-11-09T03:27:33.985Z"
   },
   {
    "duration": 3,
    "start_time": "2024-11-09T03:27:33.996Z"
   },
   {
    "duration": 7,
    "start_time": "2024-11-09T03:27:34.001Z"
   },
   {
    "duration": 21,
    "start_time": "2024-11-09T03:27:34.010Z"
   },
   {
    "duration": 7,
    "start_time": "2024-11-09T03:27:34.032Z"
   },
   {
    "duration": 22,
    "start_time": "2024-11-09T03:27:34.040Z"
   },
   {
    "duration": 5,
    "start_time": "2024-11-09T03:27:34.063Z"
   },
   {
    "duration": 4,
    "start_time": "2024-11-09T03:27:34.070Z"
   },
   {
    "duration": 879,
    "start_time": "2024-11-09T03:28:26.248Z"
   },
   {
    "duration": 35,
    "start_time": "2024-11-09T03:28:27.132Z"
   },
   {
    "duration": 15,
    "start_time": "2024-11-09T03:28:27.168Z"
   },
   {
    "duration": 14,
    "start_time": "2024-11-09T03:28:27.184Z"
   },
   {
    "duration": 4,
    "start_time": "2024-11-09T03:28:27.201Z"
   },
   {
    "duration": 4,
    "start_time": "2024-11-09T03:28:27.207Z"
   },
   {
    "duration": 4,
    "start_time": "2024-11-09T03:28:27.212Z"
   },
   {
    "duration": 3,
    "start_time": "2024-11-09T03:28:27.217Z"
   },
   {
    "duration": 649,
    "start_time": "2024-11-09T03:28:27.222Z"
   },
   {
    "duration": 0,
    "start_time": "2024-11-09T03:28:27.874Z"
   },
   {
    "duration": 0,
    "start_time": "2024-11-09T03:28:27.875Z"
   },
   {
    "duration": 0,
    "start_time": "2024-11-09T03:28:27.876Z"
   },
   {
    "duration": 0,
    "start_time": "2024-11-09T03:28:27.877Z"
   },
   {
    "duration": 0,
    "start_time": "2024-11-09T03:28:27.879Z"
   },
   {
    "duration": 1,
    "start_time": "2024-11-09T03:28:27.880Z"
   },
   {
    "duration": 0,
    "start_time": "2024-11-09T03:28:27.882Z"
   },
   {
    "duration": 0,
    "start_time": "2024-11-09T03:28:27.883Z"
   },
   {
    "duration": 0,
    "start_time": "2024-11-09T03:28:27.884Z"
   },
   {
    "duration": 0,
    "start_time": "2024-11-09T03:28:27.885Z"
   },
   {
    "duration": 0,
    "start_time": "2024-11-09T03:28:27.887Z"
   },
   {
    "duration": 0,
    "start_time": "2024-11-09T03:28:27.888Z"
   },
   {
    "duration": 0,
    "start_time": "2024-11-09T03:28:27.889Z"
   },
   {
    "duration": 0,
    "start_time": "2024-11-09T03:28:27.890Z"
   },
   {
    "duration": 0,
    "start_time": "2024-11-09T03:28:27.892Z"
   },
   {
    "duration": 0,
    "start_time": "2024-11-09T03:28:27.893Z"
   },
   {
    "duration": 0,
    "start_time": "2024-11-09T03:28:27.894Z"
   },
   {
    "duration": 0,
    "start_time": "2024-11-09T03:28:27.895Z"
   },
   {
    "duration": 0,
    "start_time": "2024-11-09T03:28:27.896Z"
   },
   {
    "duration": 0,
    "start_time": "2024-11-09T03:28:27.897Z"
   },
   {
    "duration": 0,
    "start_time": "2024-11-09T03:28:27.898Z"
   },
   {
    "duration": 0,
    "start_time": "2024-11-09T03:28:27.898Z"
   },
   {
    "duration": 0,
    "start_time": "2024-11-09T03:28:27.900Z"
   },
   {
    "duration": 0,
    "start_time": "2024-11-09T03:28:27.900Z"
   },
   {
    "duration": 0,
    "start_time": "2024-11-09T03:28:27.901Z"
   },
   {
    "duration": 0,
    "start_time": "2024-11-09T03:28:27.902Z"
   },
   {
    "duration": 0,
    "start_time": "2024-11-09T03:28:27.903Z"
   },
   {
    "duration": 3,
    "start_time": "2024-11-09T03:28:58.695Z"
   },
   {
    "duration": 832,
    "start_time": "2024-11-09T03:29:04.635Z"
   },
   {
    "duration": 9,
    "start_time": "2024-11-09T03:29:05.470Z"
   },
   {
    "duration": 16,
    "start_time": "2024-11-09T03:29:05.480Z"
   },
   {
    "duration": 14,
    "start_time": "2024-11-09T03:29:05.497Z"
   },
   {
    "duration": 42,
    "start_time": "2024-11-09T03:29:05.513Z"
   },
   {
    "duration": 5,
    "start_time": "2024-11-09T03:29:05.556Z"
   },
   {
    "duration": 7,
    "start_time": "2024-11-09T03:29:05.563Z"
   },
   {
    "duration": 4,
    "start_time": "2024-11-09T03:29:05.572Z"
   },
   {
    "duration": 7,
    "start_time": "2024-11-09T03:29:05.578Z"
   },
   {
    "duration": 5,
    "start_time": "2024-11-09T03:29:05.587Z"
   },
   {
    "duration": 5,
    "start_time": "2024-11-09T03:29:05.594Z"
   },
   {
    "duration": 5,
    "start_time": "2024-11-09T03:29:05.601Z"
   },
   {
    "duration": 22,
    "start_time": "2024-11-09T03:29:05.607Z"
   },
   {
    "duration": 170,
    "start_time": "2024-11-09T03:29:05.638Z"
   },
   {
    "duration": 7,
    "start_time": "2024-11-09T03:29:05.810Z"
   },
   {
    "duration": 323,
    "start_time": "2024-11-09T03:29:05.831Z"
   },
   {
    "duration": 15,
    "start_time": "2024-11-09T03:29:06.155Z"
   },
   {
    "duration": 193,
    "start_time": "2024-11-09T03:29:06.173Z"
   },
   {
    "duration": 8,
    "start_time": "2024-11-09T03:29:06.370Z"
   },
   {
    "duration": 227,
    "start_time": "2024-11-09T03:29:06.381Z"
   },
   {
    "duration": 7,
    "start_time": "2024-11-09T03:29:06.610Z"
   },
   {
    "duration": 20,
    "start_time": "2024-11-09T03:29:06.628Z"
   },
   {
    "duration": 10,
    "start_time": "2024-11-09T03:29:06.652Z"
   },
   {
    "duration": 4,
    "start_time": "2024-11-09T03:29:06.666Z"
   },
   {
    "duration": 14,
    "start_time": "2024-11-09T03:29:06.673Z"
   },
   {
    "duration": 5,
    "start_time": "2024-11-09T03:29:06.689Z"
   },
   {
    "duration": 10,
    "start_time": "2024-11-09T03:29:06.696Z"
   },
   {
    "duration": 4,
    "start_time": "2024-11-09T03:29:06.708Z"
   },
   {
    "duration": 28,
    "start_time": "2024-11-09T03:29:06.714Z"
   },
   {
    "duration": 7,
    "start_time": "2024-11-09T03:29:06.744Z"
   },
   {
    "duration": 19,
    "start_time": "2024-11-09T03:29:06.752Z"
   },
   {
    "duration": 10,
    "start_time": "2024-11-09T03:29:06.774Z"
   },
   {
    "duration": 3,
    "start_time": "2024-11-09T03:29:06.785Z"
   },
   {
    "duration": 3,
    "start_time": "2024-11-09T03:29:06.790Z"
   },
   {
    "duration": 4,
    "start_time": "2024-11-09T03:29:06.795Z"
   },
   {
    "duration": 4,
    "start_time": "2024-11-09T03:29:06.801Z"
   },
   {
    "duration": 258,
    "start_time": "2024-11-09T03:29:49.762Z"
   },
   {
    "duration": 217,
    "start_time": "2024-11-09T03:30:01.210Z"
   },
   {
    "duration": 805,
    "start_time": "2024-11-09T03:30:09.510Z"
   },
   {
    "duration": 33,
    "start_time": "2024-11-09T03:30:10.319Z"
   },
   {
    "duration": 21,
    "start_time": "2024-11-09T03:30:10.360Z"
   },
   {
    "duration": 14,
    "start_time": "2024-11-09T03:30:10.384Z"
   },
   {
    "duration": 5,
    "start_time": "2024-11-09T03:30:10.401Z"
   },
   {
    "duration": 5,
    "start_time": "2024-11-09T03:30:10.408Z"
   },
   {
    "duration": 7,
    "start_time": "2024-11-09T03:30:10.415Z"
   },
   {
    "duration": 7,
    "start_time": "2024-11-09T03:30:10.423Z"
   },
   {
    "duration": 22,
    "start_time": "2024-11-09T03:30:10.440Z"
   },
   {
    "duration": 3,
    "start_time": "2024-11-09T03:30:10.463Z"
   },
   {
    "duration": 5,
    "start_time": "2024-11-09T03:30:10.468Z"
   },
   {
    "duration": 4,
    "start_time": "2024-11-09T03:30:10.475Z"
   },
   {
    "duration": 9,
    "start_time": "2024-11-09T03:30:10.481Z"
   },
   {
    "duration": 144,
    "start_time": "2024-11-09T03:30:10.493Z"
   },
   {
    "duration": 13,
    "start_time": "2024-11-09T03:30:10.638Z"
   },
   {
    "duration": 260,
    "start_time": "2024-11-09T03:30:10.652Z"
   },
   {
    "duration": 10,
    "start_time": "2024-11-09T03:30:10.914Z"
   },
   {
    "duration": 165,
    "start_time": "2024-11-09T03:30:10.926Z"
   },
   {
    "duration": 6,
    "start_time": "2024-11-09T03:30:11.093Z"
   },
   {
    "duration": 247,
    "start_time": "2024-11-09T03:30:11.100Z"
   },
   {
    "duration": 17,
    "start_time": "2024-11-09T03:30:11.348Z"
   },
   {
    "duration": 13,
    "start_time": "2024-11-09T03:30:11.366Z"
   },
   {
    "duration": 8,
    "start_time": "2024-11-09T03:30:11.380Z"
   },
   {
    "duration": 6,
    "start_time": "2024-11-09T03:30:11.389Z"
   },
   {
    "duration": 9,
    "start_time": "2024-11-09T03:30:11.397Z"
   },
   {
    "duration": 8,
    "start_time": "2024-11-09T03:30:11.407Z"
   },
   {
    "duration": 14,
    "start_time": "2024-11-09T03:30:11.417Z"
   },
   {
    "duration": 15,
    "start_time": "2024-11-09T03:30:11.432Z"
   },
   {
    "duration": 17,
    "start_time": "2024-11-09T03:30:11.448Z"
   },
   {
    "duration": 6,
    "start_time": "2024-11-09T03:30:11.467Z"
   },
   {
    "duration": 9,
    "start_time": "2024-11-09T03:30:11.475Z"
   },
   {
    "duration": 11,
    "start_time": "2024-11-09T03:30:11.485Z"
   },
   {
    "duration": 3,
    "start_time": "2024-11-09T03:30:11.498Z"
   },
   {
    "duration": 3,
    "start_time": "2024-11-09T03:30:11.503Z"
   },
   {
    "duration": 4,
    "start_time": "2024-11-09T03:30:11.507Z"
   },
   {
    "duration": 18,
    "start_time": "2024-11-09T03:30:11.513Z"
   },
   {
    "duration": 792,
    "start_time": "2024-11-09T04:41:21.586Z"
   },
   {
    "duration": 16,
    "start_time": "2024-11-09T04:41:22.380Z"
   },
   {
    "duration": 14,
    "start_time": "2024-11-09T04:41:22.397Z"
   },
   {
    "duration": 12,
    "start_time": "2024-11-09T04:41:22.413Z"
   },
   {
    "duration": 4,
    "start_time": "2024-11-09T04:41:22.427Z"
   },
   {
    "duration": 5,
    "start_time": "2024-11-09T04:41:22.433Z"
   },
   {
    "duration": 4,
    "start_time": "2024-11-09T04:41:22.440Z"
   },
   {
    "duration": 3,
    "start_time": "2024-11-09T04:41:22.445Z"
   },
   {
    "duration": 6,
    "start_time": "2024-11-09T04:41:22.449Z"
   },
   {
    "duration": 3,
    "start_time": "2024-11-09T04:41:22.457Z"
   },
   {
    "duration": 48,
    "start_time": "2024-11-09T04:41:22.462Z"
   },
   {
    "duration": 4,
    "start_time": "2024-11-09T04:41:22.511Z"
   },
   {
    "duration": 7,
    "start_time": "2024-11-09T04:41:22.517Z"
   },
   {
    "duration": 132,
    "start_time": "2024-11-09T04:41:22.528Z"
   },
   {
    "duration": 7,
    "start_time": "2024-11-09T04:41:22.661Z"
   },
   {
    "duration": 234,
    "start_time": "2024-11-09T04:41:22.670Z"
   },
   {
    "duration": 9,
    "start_time": "2024-11-09T04:41:22.909Z"
   },
   {
    "duration": 154,
    "start_time": "2024-11-09T04:41:22.920Z"
   },
   {
    "duration": 6,
    "start_time": "2024-11-09T04:41:23.075Z"
   },
   {
    "duration": 229,
    "start_time": "2024-11-09T04:41:23.083Z"
   },
   {
    "duration": 9,
    "start_time": "2024-11-09T04:41:23.314Z"
   },
   {
    "duration": 14,
    "start_time": "2024-11-09T04:41:23.324Z"
   },
   {
    "duration": 7,
    "start_time": "2024-11-09T04:41:23.340Z"
   },
   {
    "duration": 4,
    "start_time": "2024-11-09T04:41:23.349Z"
   },
   {
    "duration": 6,
    "start_time": "2024-11-09T04:41:23.354Z"
   },
   {
    "duration": 5,
    "start_time": "2024-11-09T04:41:23.361Z"
   },
   {
    "duration": 42,
    "start_time": "2024-11-09T04:41:23.368Z"
   },
   {
    "duration": 3,
    "start_time": "2024-11-09T04:41:23.411Z"
   },
   {
    "duration": 10,
    "start_time": "2024-11-09T04:41:23.416Z"
   },
   {
    "duration": 3,
    "start_time": "2024-11-09T04:41:23.427Z"
   },
   {
    "duration": 8,
    "start_time": "2024-11-09T04:41:23.432Z"
   },
   {
    "duration": 10,
    "start_time": "2024-11-09T04:41:23.442Z"
   },
   {
    "duration": 5,
    "start_time": "2024-11-09T04:41:23.453Z"
   },
   {
    "duration": 4,
    "start_time": "2024-11-09T04:41:23.459Z"
   },
   {
    "duration": 5,
    "start_time": "2024-11-09T04:41:23.464Z"
   },
   {
    "duration": 41,
    "start_time": "2024-11-09T04:41:23.470Z"
   },
   {
    "duration": 4,
    "start_time": "2024-11-09T04:45:49.239Z"
   },
   {
    "duration": 5,
    "start_time": "2024-11-09T04:45:51.549Z"
   },
   {
    "duration": 7,
    "start_time": "2024-11-09T04:45:55.679Z"
   },
   {
    "duration": 159,
    "start_time": "2024-12-04T22:54:51.131Z"
   },
   {
    "duration": 2573,
    "start_time": "2024-12-12T18:37:38.642Z"
   },
   {
    "duration": 15,
    "start_time": "2024-12-12T18:37:41.217Z"
   },
   {
    "duration": 17,
    "start_time": "2024-12-12T18:37:41.234Z"
   },
   {
    "duration": 14,
    "start_time": "2024-12-12T18:37:41.254Z"
   },
   {
    "duration": 5,
    "start_time": "2024-12-12T18:37:41.269Z"
   },
   {
    "duration": 4,
    "start_time": "2024-12-12T18:37:41.276Z"
   },
   {
    "duration": 4,
    "start_time": "2024-12-12T18:37:41.281Z"
   },
   {
    "duration": 3,
    "start_time": "2024-12-12T18:37:41.286Z"
   },
   {
    "duration": 7,
    "start_time": "2024-12-12T18:37:41.290Z"
   },
   {
    "duration": 44,
    "start_time": "2024-12-12T18:37:41.301Z"
   },
   {
    "duration": 4,
    "start_time": "2024-12-12T18:37:41.347Z"
   },
   {
    "duration": 6,
    "start_time": "2024-12-12T18:37:41.353Z"
   },
   {
    "duration": 8,
    "start_time": "2024-12-12T18:37:41.361Z"
   },
   {
    "duration": 141,
    "start_time": "2024-12-12T18:37:41.371Z"
   },
   {
    "duration": 6,
    "start_time": "2024-12-12T18:37:41.513Z"
   },
   {
    "duration": 244,
    "start_time": "2024-12-12T18:37:41.521Z"
   },
   {
    "duration": 9,
    "start_time": "2024-12-12T18:37:41.767Z"
   },
   {
    "duration": 118,
    "start_time": "2024-12-12T18:37:41.778Z"
   },
   {
    "duration": 6,
    "start_time": "2024-12-12T18:37:41.898Z"
   },
   {
    "duration": 209,
    "start_time": "2024-12-12T18:37:41.906Z"
   },
   {
    "duration": 9,
    "start_time": "2024-12-12T18:37:42.117Z"
   },
   {
    "duration": 23,
    "start_time": "2024-12-12T18:37:42.127Z"
   },
   {
    "duration": 7,
    "start_time": "2024-12-12T18:37:42.152Z"
   },
   {
    "duration": 3,
    "start_time": "2024-12-12T18:37:42.161Z"
   },
   {
    "duration": 6,
    "start_time": "2024-12-12T18:37:42.166Z"
   },
   {
    "duration": 4,
    "start_time": "2024-12-12T18:37:42.174Z"
   },
   {
    "duration": 8,
    "start_time": "2024-12-12T18:37:42.180Z"
   },
   {
    "duration": 3,
    "start_time": "2024-12-12T18:37:42.191Z"
   },
   {
    "duration": 52,
    "start_time": "2024-12-12T18:37:42.196Z"
   },
   {
    "duration": 4,
    "start_time": "2024-12-12T18:37:42.250Z"
   },
   {
    "duration": 8,
    "start_time": "2024-12-12T18:37:42.256Z"
   },
   {
    "duration": 8,
    "start_time": "2024-12-12T18:37:42.267Z"
   },
   {
    "duration": 3,
    "start_time": "2024-12-12T18:37:42.278Z"
   },
   {
    "duration": 3,
    "start_time": "2024-12-12T18:37:42.282Z"
   },
   {
    "duration": 5,
    "start_time": "2024-12-12T18:37:42.287Z"
   },
   {
    "duration": 4,
    "start_time": "2024-12-12T18:37:42.293Z"
   }
  ],
  "kernelspec": {
   "display_name": "Python 3 (ipykernel)",
   "language": "python",
   "name": "python3"
  },
  "language_info": {
   "codemirror_mode": {
    "name": "ipython",
    "version": 3
   },
   "file_extension": ".py",
   "mimetype": "text/x-python",
   "name": "python",
   "nbconvert_exporter": "python",
   "pygments_lexer": "ipython3",
   "version": "3.9.19"
  },
  "toc": {
   "base_numbering": 1,
   "nav_menu": {},
   "number_sections": true,
   "sideBar": true,
   "skip_h1_title": true,
   "title_cell": "Table of Contents",
   "title_sidebar": "Contents",
   "toc_cell": false,
   "toc_position": {},
   "toc_section_display": true,
   "toc_window_display": false
  }
 },
 "nbformat": 4,
 "nbformat_minor": 2
}
